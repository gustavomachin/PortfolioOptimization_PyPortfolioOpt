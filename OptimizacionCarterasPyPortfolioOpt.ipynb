{
  "nbformat": 4,
  "nbformat_minor": 0,
  "metadata": {
    "colab": {
      "name": "OptimizacionCarterasPyPortfolioOpt.ipynb",
      "provenance": [],
      "collapsed_sections": [],
      "authorship_tag": "ABX9TyPLlMPZ4Ser/jKJ3EMNIYKo",
      "include_colab_link": true
    },
    "kernelspec": {
      "name": "python3",
      "display_name": "Python 3"
    },
    "language_info": {
      "name": "python"
    }
  },
  "cells": [
    {
      "cell_type": "markdown",
      "metadata": {
        "id": "view-in-github",
        "colab_type": "text"
      },
      "source": [
        "<a href=\"https://colab.research.google.com/github/gustavomachin/PortfolioOptimization_PyPortfolioOpt/blob/master/OptimizacionCarterasPyPortfolioOpt.ipynb\" target=\"_parent\"><img src=\"https://colab.research.google.com/assets/colab-badge.svg\" alt=\"Open In Colab\"/></a>"
      ]
    },
    {
      "cell_type": "markdown",
      "source": [
        "# **Optimización de carteras usando la biblioteca *PyPortfolioOpt***\n",
        "\n"
      ],
      "metadata": {
        "id": "crng8_zvVJdl"
      }
    },
    {
      "cell_type": "markdown",
      "source": [
        "PyPortfolioOpt es una biblioteca que implementa los métodos de optimizaicón de carteras. Incluye técnicas clásicas de optimización como la propuesta por Markowitz basada en el rendimiento y riesgo y la asignación de Black-Litterman, así como desarrollos más recientes como Paridad de Riesgo Jerárquica.\n",
        "\n",
        "Martin, R. A., (2021). PyPortfolioOpt: portfolio optimization in Python. Journal of Open Source Software, 6(61), 3066, https://doi.org/10.21105/joss.03066"
      ],
      "metadata": {
        "id": "X-tsrWK5VQxo"
      }
    },
    {
      "cell_type": "markdown",
      "source": [
        "## PASO 0: **Instalar e importar las bibliotecas necesarias**"
      ],
      "metadata": {
        "id": "A-u0c-FZWVbX"
      }
    },
    {
      "cell_type": "code",
      "execution_count": 3,
      "metadata": {
        "colab": {
          "base_uri": "https://localhost:8080/"
        },
        "id": "3wU5t8IeVH_g",
        "outputId": "6f62d836-44de-4c06-ce9f-a408f522fa73"
      },
      "outputs": [
        {
          "output_type": "stream",
          "name": "stdout",
          "text": [
            "Requirement already satisfied: PyPortfolioOpt in /usr/local/lib/python3.7/dist-packages (1.5.1)\n",
            "Requirement already satisfied: pandas>=0.19 in /usr/local/lib/python3.7/dist-packages (from PyPortfolioOpt) (1.1.5)\n",
            "Requirement already satisfied: scipy<2.0,>=1.3 in /usr/local/lib/python3.7/dist-packages (from PyPortfolioOpt) (1.4.1)\n",
            "Requirement already satisfied: numpy<2.0,>=1.12 in /usr/local/lib/python3.7/dist-packages (from PyPortfolioOpt) (1.19.5)\n",
            "Requirement already satisfied: cvxpy<2.0.0,>=1.1.10 in /usr/local/lib/python3.7/dist-packages (from PyPortfolioOpt) (1.1.18)\n",
            "Requirement already satisfied: scs>=1.1.6 in /usr/local/lib/python3.7/dist-packages (from cvxpy<2.0.0,>=1.1.10->PyPortfolioOpt) (3.0.1)\n",
            "Requirement already satisfied: ecos>=2 in /usr/local/lib/python3.7/dist-packages (from cvxpy<2.0.0,>=1.1.10->PyPortfolioOpt) (2.0.10)\n",
            "Requirement already satisfied: osqp>=0.4.1 in /usr/local/lib/python3.7/dist-packages (from cvxpy<2.0.0,>=1.1.10->PyPortfolioOpt) (0.6.2.post0)\n",
            "Requirement already satisfied: qdldl in /usr/local/lib/python3.7/dist-packages (from osqp>=0.4.1->cvxpy<2.0.0,>=1.1.10->PyPortfolioOpt) (0.1.5.post0)\n",
            "Requirement already satisfied: pytz>=2017.2 in /usr/local/lib/python3.7/dist-packages (from pandas>=0.19->PyPortfolioOpt) (2018.9)\n",
            "Requirement already satisfied: python-dateutil>=2.7.3 in /usr/local/lib/python3.7/dist-packages (from pandas>=0.19->PyPortfolioOpt) (2.8.2)\n",
            "Requirement already satisfied: six>=1.5 in /usr/local/lib/python3.7/dist-packages (from python-dateutil>=2.7.3->pandas>=0.19->PyPortfolioOpt) (1.15.0)\n"
          ]
        }
      ],
      "source": [
        "pip install PyPortfolioOpt"
      ]
    },
    {
      "cell_type": "code",
      "source": [
        "pip install yfinance"
      ],
      "metadata": {
        "colab": {
          "base_uri": "https://localhost:8080/"
        },
        "id": "p2MZmjYzbKo_",
        "outputId": "cd91a920-86a7-46ff-e3ad-db6ea5c6b557"
      },
      "execution_count": 4,
      "outputs": [
        {
          "output_type": "stream",
          "name": "stdout",
          "text": [
            "Requirement already satisfied: yfinance in /usr/local/lib/python3.7/dist-packages (0.1.69)\n",
            "Requirement already satisfied: pandas>=0.24 in /usr/local/lib/python3.7/dist-packages (from yfinance) (1.1.5)\n",
            "Requirement already satisfied: numpy>=1.15 in /usr/local/lib/python3.7/dist-packages (from yfinance) (1.19.5)\n",
            "Requirement already satisfied: lxml>=4.5.1 in /usr/local/lib/python3.7/dist-packages (from yfinance) (4.7.1)\n",
            "Requirement already satisfied: requests>=2.26 in /usr/local/lib/python3.7/dist-packages (from yfinance) (2.27.1)\n",
            "Requirement already satisfied: multitasking>=0.0.7 in /usr/local/lib/python3.7/dist-packages (from yfinance) (0.0.10)\n",
            "Requirement already satisfied: pytz>=2017.2 in /usr/local/lib/python3.7/dist-packages (from pandas>=0.24->yfinance) (2018.9)\n",
            "Requirement already satisfied: python-dateutil>=2.7.3 in /usr/local/lib/python3.7/dist-packages (from pandas>=0.24->yfinance) (2.8.2)\n",
            "Requirement already satisfied: six>=1.5 in /usr/local/lib/python3.7/dist-packages (from python-dateutil>=2.7.3->pandas>=0.24->yfinance) (1.15.0)\n",
            "Requirement already satisfied: idna<4,>=2.5 in /usr/local/lib/python3.7/dist-packages (from requests>=2.26->yfinance) (2.10)\n",
            "Requirement already satisfied: certifi>=2017.4.17 in /usr/local/lib/python3.7/dist-packages (from requests>=2.26->yfinance) (2021.10.8)\n",
            "Requirement already satisfied: charset-normalizer~=2.0.0 in /usr/local/lib/python3.7/dist-packages (from requests>=2.26->yfinance) (2.0.10)\n",
            "Requirement already satisfied: urllib3<1.27,>=1.21.1 in /usr/local/lib/python3.7/dist-packages (from requests>=2.26->yfinance) (1.24.3)\n"
          ]
        }
      ]
    },
    {
      "cell_type": "code",
      "source": [
        "import pandas as pd\n",
        "import numpy as np\n",
        "import matplotlib.pyplot as plt\n",
        "import yfinance as yf"
      ],
      "metadata": {
        "id": "2mdRhtFBbQkq"
      },
      "execution_count": 5,
      "outputs": []
    },
    {
      "cell_type": "code",
      "source": [
        "from pypfopt import EfficientFrontier\n",
        "from pypfopt import risk_models\n",
        "from pypfopt import expected_returns\n",
        "from pypfopt import objective_functions #para la regularización L2\n",
        "from pypfopt import plotting\n",
        "from pypfopt import HRPOpt"
      ],
      "metadata": {
        "id": "-FbvK0_vVYHT"
      },
      "execution_count": 69,
      "outputs": []
    },
    {
      "cell_type": "markdown",
      "source": [
        "## PASO 1: **Obtener los datos de las acciones de forma remota y visualizarlos**"
      ],
      "metadata": {
        "id": "G5rU5Ktxbr30"
      }
    },
    {
      "cell_type": "code",
      "source": [
        "simbolos = [\"AAPL\",\"MSFT\",\"TSLA\",\"FB\",\"NVDA\"]"
      ],
      "metadata": {
        "id": "FXmcI7x0VkP8"
      },
      "execution_count": 7,
      "outputs": []
    },
    {
      "cell_type": "code",
      "source": [
        "df = yf.download(simbolos, start='2021-01-01', rounding=True)\n",
        "df"
      ],
      "metadata": {
        "colab": {
          "base_uri": "https://localhost:8080/",
          "height": 741
        },
        "id": "zi1PAWmwbp5M",
        "outputId": "e4fb3b24-3497-4010-d8e5-6d4a02620d72"
      },
      "execution_count": 8,
      "outputs": [
        {
          "output_type": "stream",
          "name": "stdout",
          "text": [
            "[*********************100%***********************]  5 of 5 completed\n"
          ]
        },
        {
          "output_type": "execute_result",
          "data": {
            "text/html": [
              "\n",
              "  <div id=\"df-1f39d01f-1774-4e0a-b657-69717a177597\">\n",
              "    <div class=\"colab-df-container\">\n",
              "      <div>\n",
              "<style scoped>\n",
              "    .dataframe tbody tr th:only-of-type {\n",
              "        vertical-align: middle;\n",
              "    }\n",
              "\n",
              "    .dataframe tbody tr th {\n",
              "        vertical-align: top;\n",
              "    }\n",
              "\n",
              "    .dataframe thead tr th {\n",
              "        text-align: left;\n",
              "    }\n",
              "\n",
              "    .dataframe thead tr:last-of-type th {\n",
              "        text-align: right;\n",
              "    }\n",
              "</style>\n",
              "<table border=\"1\" class=\"dataframe\">\n",
              "  <thead>\n",
              "    <tr>\n",
              "      <th></th>\n",
              "      <th colspan=\"5\" halign=\"left\">Adj Close</th>\n",
              "      <th colspan=\"5\" halign=\"left\">Close</th>\n",
              "      <th colspan=\"5\" halign=\"left\">High</th>\n",
              "      <th colspan=\"5\" halign=\"left\">Low</th>\n",
              "      <th colspan=\"5\" halign=\"left\">Open</th>\n",
              "      <th colspan=\"5\" halign=\"left\">Volume</th>\n",
              "    </tr>\n",
              "    <tr>\n",
              "      <th></th>\n",
              "      <th>AAPL</th>\n",
              "      <th>FB</th>\n",
              "      <th>MSFT</th>\n",
              "      <th>NVDA</th>\n",
              "      <th>TSLA</th>\n",
              "      <th>AAPL</th>\n",
              "      <th>FB</th>\n",
              "      <th>MSFT</th>\n",
              "      <th>NVDA</th>\n",
              "      <th>TSLA</th>\n",
              "      <th>AAPL</th>\n",
              "      <th>FB</th>\n",
              "      <th>MSFT</th>\n",
              "      <th>NVDA</th>\n",
              "      <th>TSLA</th>\n",
              "      <th>AAPL</th>\n",
              "      <th>FB</th>\n",
              "      <th>MSFT</th>\n",
              "      <th>NVDA</th>\n",
              "      <th>TSLA</th>\n",
              "      <th>AAPL</th>\n",
              "      <th>FB</th>\n",
              "      <th>MSFT</th>\n",
              "      <th>NVDA</th>\n",
              "      <th>TSLA</th>\n",
              "      <th>AAPL</th>\n",
              "      <th>FB</th>\n",
              "      <th>MSFT</th>\n",
              "      <th>NVDA</th>\n",
              "      <th>TSLA</th>\n",
              "    </tr>\n",
              "    <tr>\n",
              "      <th>Date</th>\n",
              "      <th></th>\n",
              "      <th></th>\n",
              "      <th></th>\n",
              "      <th></th>\n",
              "      <th></th>\n",
              "      <th></th>\n",
              "      <th></th>\n",
              "      <th></th>\n",
              "      <th></th>\n",
              "      <th></th>\n",
              "      <th></th>\n",
              "      <th></th>\n",
              "      <th></th>\n",
              "      <th></th>\n",
              "      <th></th>\n",
              "      <th></th>\n",
              "      <th></th>\n",
              "      <th></th>\n",
              "      <th></th>\n",
              "      <th></th>\n",
              "      <th></th>\n",
              "      <th></th>\n",
              "      <th></th>\n",
              "      <th></th>\n",
              "      <th></th>\n",
              "      <th></th>\n",
              "      <th></th>\n",
              "      <th></th>\n",
              "      <th></th>\n",
              "      <th></th>\n",
              "    </tr>\n",
              "  </thead>\n",
              "  <tbody>\n",
              "    <tr>\n",
              "      <th>2021-01-04</th>\n",
              "      <td>128.62</td>\n",
              "      <td>268.94</td>\n",
              "      <td>215.88</td>\n",
              "      <td>131.02</td>\n",
              "      <td>729.77</td>\n",
              "      <td>129.41</td>\n",
              "      <td>268.94</td>\n",
              "      <td>217.69</td>\n",
              "      <td>131.13</td>\n",
              "      <td>729.77</td>\n",
              "      <td>133.61</td>\n",
              "      <td>275.00</td>\n",
              "      <td>223.00</td>\n",
              "      <td>136.52</td>\n",
              "      <td>744.49</td>\n",
              "      <td>126.76</td>\n",
              "      <td>265.20</td>\n",
              "      <td>214.81</td>\n",
              "      <td>129.62</td>\n",
              "      <td>717.19</td>\n",
              "      <td>133.52</td>\n",
              "      <td>274.78</td>\n",
              "      <td>222.53</td>\n",
              "      <td>131.04</td>\n",
              "      <td>719.46</td>\n",
              "      <td>143301900</td>\n",
              "      <td>15106100</td>\n",
              "      <td>37130100</td>\n",
              "      <td>56064000</td>\n",
              "      <td>48638200</td>\n",
              "    </tr>\n",
              "    <tr>\n",
              "      <th>2021-01-05</th>\n",
              "      <td>130.21</td>\n",
              "      <td>270.97</td>\n",
              "      <td>216.09</td>\n",
              "      <td>133.93</td>\n",
              "      <td>735.11</td>\n",
              "      <td>131.01</td>\n",
              "      <td>270.97</td>\n",
              "      <td>217.90</td>\n",
              "      <td>134.05</td>\n",
              "      <td>735.11</td>\n",
              "      <td>131.74</td>\n",
              "      <td>272.40</td>\n",
              "      <td>218.52</td>\n",
              "      <td>134.43</td>\n",
              "      <td>740.84</td>\n",
              "      <td>128.43</td>\n",
              "      <td>268.21</td>\n",
              "      <td>215.70</td>\n",
              "      <td>130.87</td>\n",
              "      <td>719.20</td>\n",
              "      <td>128.89</td>\n",
              "      <td>268.29</td>\n",
              "      <td>217.26</td>\n",
              "      <td>131.00</td>\n",
              "      <td>723.66</td>\n",
              "      <td>97664900</td>\n",
              "      <td>9871600</td>\n",
              "      <td>23823000</td>\n",
              "      <td>32276000</td>\n",
              "      <td>32245200</td>\n",
              "    </tr>\n",
              "    <tr>\n",
              "      <th>2021-01-06</th>\n",
              "      <td>125.82</td>\n",
              "      <td>263.31</td>\n",
              "      <td>210.49</td>\n",
              "      <td>126.03</td>\n",
              "      <td>755.98</td>\n",
              "      <td>126.60</td>\n",
              "      <td>263.31</td>\n",
              "      <td>212.25</td>\n",
              "      <td>126.14</td>\n",
              "      <td>755.98</td>\n",
              "      <td>131.05</td>\n",
              "      <td>267.75</td>\n",
              "      <td>216.49</td>\n",
              "      <td>132.45</td>\n",
              "      <td>774.00</td>\n",
              "      <td>126.38</td>\n",
              "      <td>260.01</td>\n",
              "      <td>211.94</td>\n",
              "      <td>125.86</td>\n",
              "      <td>749.10</td>\n",
              "      <td>127.72</td>\n",
              "      <td>262.00</td>\n",
              "      <td>212.17</td>\n",
              "      <td>132.23</td>\n",
              "      <td>758.49</td>\n",
              "      <td>155088000</td>\n",
              "      <td>24354100</td>\n",
              "      <td>35930700</td>\n",
              "      <td>58042400</td>\n",
              "      <td>44700000</td>\n",
              "    </tr>\n",
              "    <tr>\n",
              "      <th>2021-01-07</th>\n",
              "      <td>130.12</td>\n",
              "      <td>268.74</td>\n",
              "      <td>216.48</td>\n",
              "      <td>133.32</td>\n",
              "      <td>816.04</td>\n",
              "      <td>130.92</td>\n",
              "      <td>268.74</td>\n",
              "      <td>218.29</td>\n",
              "      <td>133.44</td>\n",
              "      <td>816.04</td>\n",
              "      <td>131.63</td>\n",
              "      <td>271.61</td>\n",
              "      <td>219.34</td>\n",
              "      <td>133.78</td>\n",
              "      <td>816.99</td>\n",
              "      <td>127.86</td>\n",
              "      <td>264.78</td>\n",
              "      <td>213.71</td>\n",
              "      <td>128.87</td>\n",
              "      <td>775.20</td>\n",
              "      <td>128.36</td>\n",
              "      <td>265.90</td>\n",
              "      <td>214.04</td>\n",
              "      <td>129.68</td>\n",
              "      <td>777.63</td>\n",
              "      <td>109578200</td>\n",
              "      <td>15789800</td>\n",
              "      <td>27694500</td>\n",
              "      <td>46148000</td>\n",
              "      <td>51498900</td>\n",
              "    </tr>\n",
              "    <tr>\n",
              "      <th>2021-01-08</th>\n",
              "      <td>131.24</td>\n",
              "      <td>267.57</td>\n",
              "      <td>217.79</td>\n",
              "      <td>132.65</td>\n",
              "      <td>880.02</td>\n",
              "      <td>132.05</td>\n",
              "      <td>267.57</td>\n",
              "      <td>219.62</td>\n",
              "      <td>132.77</td>\n",
              "      <td>880.02</td>\n",
              "      <td>132.63</td>\n",
              "      <td>268.95</td>\n",
              "      <td>220.58</td>\n",
              "      <td>134.21</td>\n",
              "      <td>884.49</td>\n",
              "      <td>130.23</td>\n",
              "      <td>263.18</td>\n",
              "      <td>217.03</td>\n",
              "      <td>130.42</td>\n",
              "      <td>838.39</td>\n",
              "      <td>132.43</td>\n",
              "      <td>268.31</td>\n",
              "      <td>218.68</td>\n",
              "      <td>133.62</td>\n",
              "      <td>856.00</td>\n",
              "      <td>105158200</td>\n",
              "      <td>18528300</td>\n",
              "      <td>22956200</td>\n",
              "      <td>29252800</td>\n",
              "      <td>75055500</td>\n",
              "    </tr>\n",
              "    <tr>\n",
              "      <th>...</th>\n",
              "      <td>...</td>\n",
              "      <td>...</td>\n",
              "      <td>...</td>\n",
              "      <td>...</td>\n",
              "      <td>...</td>\n",
              "      <td>...</td>\n",
              "      <td>...</td>\n",
              "      <td>...</td>\n",
              "      <td>...</td>\n",
              "      <td>...</td>\n",
              "      <td>...</td>\n",
              "      <td>...</td>\n",
              "      <td>...</td>\n",
              "      <td>...</td>\n",
              "      <td>...</td>\n",
              "      <td>...</td>\n",
              "      <td>...</td>\n",
              "      <td>...</td>\n",
              "      <td>...</td>\n",
              "      <td>...</td>\n",
              "      <td>...</td>\n",
              "      <td>...</td>\n",
              "      <td>...</td>\n",
              "      <td>...</td>\n",
              "      <td>...</td>\n",
              "      <td>...</td>\n",
              "      <td>...</td>\n",
              "      <td>...</td>\n",
              "      <td>...</td>\n",
              "      <td>...</td>\n",
              "    </tr>\n",
              "    <tr>\n",
              "      <th>2022-01-19</th>\n",
              "      <td>166.23</td>\n",
              "      <td>319.59</td>\n",
              "      <td>303.33</td>\n",
              "      <td>250.67</td>\n",
              "      <td>995.65</td>\n",
              "      <td>166.23</td>\n",
              "      <td>319.59</td>\n",
              "      <td>303.33</td>\n",
              "      <td>250.67</td>\n",
              "      <td>995.65</td>\n",
              "      <td>171.08</td>\n",
              "      <td>327.10</td>\n",
              "      <td>313.91</td>\n",
              "      <td>265.43</td>\n",
              "      <td>1054.67</td>\n",
              "      <td>165.94</td>\n",
              "      <td>319.33</td>\n",
              "      <td>302.70</td>\n",
              "      <td>250.52</td>\n",
              "      <td>995.00</td>\n",
              "      <td>170.00</td>\n",
              "      <td>319.58</td>\n",
              "      <td>306.29</td>\n",
              "      <td>260.79</td>\n",
              "      <td>1041.71</td>\n",
              "      <td>94815000</td>\n",
              "      <td>20814700</td>\n",
              "      <td>45933900</td>\n",
              "      <td>48831500</td>\n",
              "      <td>25147500</td>\n",
              "    </tr>\n",
              "    <tr>\n",
              "      <th>2022-01-20</th>\n",
              "      <td>164.51</td>\n",
              "      <td>316.56</td>\n",
              "      <td>301.60</td>\n",
              "      <td>241.50</td>\n",
              "      <td>996.27</td>\n",
              "      <td>164.51</td>\n",
              "      <td>316.56</td>\n",
              "      <td>301.60</td>\n",
              "      <td>241.50</td>\n",
              "      <td>996.27</td>\n",
              "      <td>169.68</td>\n",
              "      <td>327.82</td>\n",
              "      <td>311.65</td>\n",
              "      <td>255.79</td>\n",
              "      <td>1041.66</td>\n",
              "      <td>164.18</td>\n",
              "      <td>315.98</td>\n",
              "      <td>301.14</td>\n",
              "      <td>240.78</td>\n",
              "      <td>994.00</td>\n",
              "      <td>166.98</td>\n",
              "      <td>323.90</td>\n",
              "      <td>309.07</td>\n",
              "      <td>253.04</td>\n",
              "      <td>1009.73</td>\n",
              "      <td>91420500</td>\n",
              "      <td>16925000</td>\n",
              "      <td>35380700</td>\n",
              "      <td>43518100</td>\n",
              "      <td>23496200</td>\n",
              "    </tr>\n",
              "    <tr>\n",
              "      <th>2022-01-21</th>\n",
              "      <td>162.41</td>\n",
              "      <td>303.17</td>\n",
              "      <td>296.03</td>\n",
              "      <td>233.74</td>\n",
              "      <td>943.90</td>\n",
              "      <td>162.41</td>\n",
              "      <td>303.17</td>\n",
              "      <td>296.03</td>\n",
              "      <td>233.74</td>\n",
              "      <td>943.90</td>\n",
              "      <td>166.33</td>\n",
              "      <td>318.31</td>\n",
              "      <td>304.11</td>\n",
              "      <td>248.23</td>\n",
              "      <td>1004.55</td>\n",
              "      <td>162.30</td>\n",
              "      <td>303.04</td>\n",
              "      <td>295.61</td>\n",
              "      <td>232.63</td>\n",
              "      <td>940.50</td>\n",
              "      <td>164.42</td>\n",
              "      <td>314.81</td>\n",
              "      <td>302.69</td>\n",
              "      <td>235.07</td>\n",
              "      <td>996.34</td>\n",
              "      <td>122501300</td>\n",
              "      <td>28661700</td>\n",
              "      <td>57118300</td>\n",
              "      <td>71743600</td>\n",
              "      <td>34126500</td>\n",
              "    </tr>\n",
              "    <tr>\n",
              "      <th>2022-01-24</th>\n",
              "      <td>161.62</td>\n",
              "      <td>308.71</td>\n",
              "      <td>296.37</td>\n",
              "      <td>233.72</td>\n",
              "      <td>930.00</td>\n",
              "      <td>161.62</td>\n",
              "      <td>308.71</td>\n",
              "      <td>296.37</td>\n",
              "      <td>233.72</td>\n",
              "      <td>930.00</td>\n",
              "      <td>162.30</td>\n",
              "      <td>309.53</td>\n",
              "      <td>297.11</td>\n",
              "      <td>233.80</td>\n",
              "      <td>933.51</td>\n",
              "      <td>154.70</td>\n",
              "      <td>289.01</td>\n",
              "      <td>276.05</td>\n",
              "      <td>208.88</td>\n",
              "      <td>851.47</td>\n",
              "      <td>160.02</td>\n",
              "      <td>297.84</td>\n",
              "      <td>292.20</td>\n",
              "      <td>223.30</td>\n",
              "      <td>904.76</td>\n",
              "      <td>162294600</td>\n",
              "      <td>38878100</td>\n",
              "      <td>85731500</td>\n",
              "      <td>91398200</td>\n",
              "      <td>50521900</td>\n",
              "    </tr>\n",
              "    <tr>\n",
              "      <th>2022-01-25</th>\n",
              "      <td>158.14</td>\n",
              "      <td>300.35</td>\n",
              "      <td>287.49</td>\n",
              "      <td>220.68</td>\n",
              "      <td>907.55</td>\n",
              "      <td>158.14</td>\n",
              "      <td>300.35</td>\n",
              "      <td>287.49</td>\n",
              "      <td>220.68</td>\n",
              "      <td>907.55</td>\n",
              "      <td>159.79</td>\n",
              "      <td>303.83</td>\n",
              "      <td>293.68</td>\n",
              "      <td>228.80</td>\n",
              "      <td>932.30</td>\n",
              "      <td>157.02</td>\n",
              "      <td>297.58</td>\n",
              "      <td>285.18</td>\n",
              "      <td>220.11</td>\n",
              "      <td>904.71</td>\n",
              "      <td>158.98</td>\n",
              "      <td>299.95</td>\n",
              "      <td>291.52</td>\n",
              "      <td>225.46</td>\n",
              "      <td>914.20</td>\n",
              "      <td>48400360</td>\n",
              "      <td>12702863</td>\n",
              "      <td>27512130</td>\n",
              "      <td>36200118</td>\n",
              "      <td>14986761</td>\n",
              "    </tr>\n",
              "  </tbody>\n",
              "</table>\n",
              "<p>268 rows × 30 columns</p>\n",
              "</div>\n",
              "      <button class=\"colab-df-convert\" onclick=\"convertToInteractive('df-1f39d01f-1774-4e0a-b657-69717a177597')\"\n",
              "              title=\"Convert this dataframe to an interactive table.\"\n",
              "              style=\"display:none;\">\n",
              "        \n",
              "  <svg xmlns=\"http://www.w3.org/2000/svg\" height=\"24px\"viewBox=\"0 0 24 24\"\n",
              "       width=\"24px\">\n",
              "    <path d=\"M0 0h24v24H0V0z\" fill=\"none\"/>\n",
              "    <path d=\"M18.56 5.44l.94 2.06.94-2.06 2.06-.94-2.06-.94-.94-2.06-.94 2.06-2.06.94zm-11 1L8.5 8.5l.94-2.06 2.06-.94-2.06-.94L8.5 2.5l-.94 2.06-2.06.94zm10 10l.94 2.06.94-2.06 2.06-.94-2.06-.94-.94-2.06-.94 2.06-2.06.94z\"/><path d=\"M17.41 7.96l-1.37-1.37c-.4-.4-.92-.59-1.43-.59-.52 0-1.04.2-1.43.59L10.3 9.45l-7.72 7.72c-.78.78-.78 2.05 0 2.83L4 21.41c.39.39.9.59 1.41.59.51 0 1.02-.2 1.41-.59l7.78-7.78 2.81-2.81c.8-.78.8-2.07 0-2.86zM5.41 20L4 18.59l7.72-7.72 1.47 1.35L5.41 20z\"/>\n",
              "  </svg>\n",
              "      </button>\n",
              "      \n",
              "  <style>\n",
              "    .colab-df-container {\n",
              "      display:flex;\n",
              "      flex-wrap:wrap;\n",
              "      gap: 12px;\n",
              "    }\n",
              "\n",
              "    .colab-df-convert {\n",
              "      background-color: #E8F0FE;\n",
              "      border: none;\n",
              "      border-radius: 50%;\n",
              "      cursor: pointer;\n",
              "      display: none;\n",
              "      fill: #1967D2;\n",
              "      height: 32px;\n",
              "      padding: 0 0 0 0;\n",
              "      width: 32px;\n",
              "    }\n",
              "\n",
              "    .colab-df-convert:hover {\n",
              "      background-color: #E2EBFA;\n",
              "      box-shadow: 0px 1px 2px rgba(60, 64, 67, 0.3), 0px 1px 3px 1px rgba(60, 64, 67, 0.15);\n",
              "      fill: #174EA6;\n",
              "    }\n",
              "\n",
              "    [theme=dark] .colab-df-convert {\n",
              "      background-color: #3B4455;\n",
              "      fill: #D2E3FC;\n",
              "    }\n",
              "\n",
              "    [theme=dark] .colab-df-convert:hover {\n",
              "      background-color: #434B5C;\n",
              "      box-shadow: 0px 1px 3px 1px rgba(0, 0, 0, 0.15);\n",
              "      filter: drop-shadow(0px 1px 2px rgba(0, 0, 0, 0.3));\n",
              "      fill: #FFFFFF;\n",
              "    }\n",
              "  </style>\n",
              "\n",
              "      <script>\n",
              "        const buttonEl =\n",
              "          document.querySelector('#df-1f39d01f-1774-4e0a-b657-69717a177597 button.colab-df-convert');\n",
              "        buttonEl.style.display =\n",
              "          google.colab.kernel.accessAllowed ? 'block' : 'none';\n",
              "\n",
              "        async function convertToInteractive(key) {\n",
              "          const element = document.querySelector('#df-1f39d01f-1774-4e0a-b657-69717a177597');\n",
              "          const dataTable =\n",
              "            await google.colab.kernel.invokeFunction('convertToInteractive',\n",
              "                                                     [key], {});\n",
              "          if (!dataTable) return;\n",
              "\n",
              "          const docLinkHtml = 'Like what you see? Visit the ' +\n",
              "            '<a target=\"_blank\" href=https://colab.research.google.com/notebooks/data_table.ipynb>data table notebook</a>'\n",
              "            + ' to learn more about interactive tables.';\n",
              "          element.innerHTML = '';\n",
              "          dataTable['output_type'] = 'display_data';\n",
              "          await google.colab.output.renderOutput(dataTable, element);\n",
              "          const docLink = document.createElement('div');\n",
              "          docLink.innerHTML = docLinkHtml;\n",
              "          element.appendChild(docLink);\n",
              "        }\n",
              "      </script>\n",
              "    </div>\n",
              "  </div>\n",
              "  "
            ],
            "text/plain": [
              "           Adj Close                  ...    Volume                    \n",
              "                AAPL      FB    MSFT  ...      MSFT      NVDA      TSLA\n",
              "Date                                  ...                              \n",
              "2021-01-04    128.62  268.94  215.88  ...  37130100  56064000  48638200\n",
              "2021-01-05    130.21  270.97  216.09  ...  23823000  32276000  32245200\n",
              "2021-01-06    125.82  263.31  210.49  ...  35930700  58042400  44700000\n",
              "2021-01-07    130.12  268.74  216.48  ...  27694500  46148000  51498900\n",
              "2021-01-08    131.24  267.57  217.79  ...  22956200  29252800  75055500\n",
              "...              ...     ...     ...  ...       ...       ...       ...\n",
              "2022-01-19    166.23  319.59  303.33  ...  45933900  48831500  25147500\n",
              "2022-01-20    164.51  316.56  301.60  ...  35380700  43518100  23496200\n",
              "2022-01-21    162.41  303.17  296.03  ...  57118300  71743600  34126500\n",
              "2022-01-24    161.62  308.71  296.37  ...  85731500  91398200  50521900\n",
              "2022-01-25    158.14  300.35  287.49  ...  27512130  36200118  14986761\n",
              "\n",
              "[268 rows x 30 columns]"
            ]
          },
          "metadata": {},
          "execution_count": 8
        }
      ]
    },
    {
      "cell_type": "code",
      "source": [
        "precios = df['Adj Close']\n",
        "precios"
      ],
      "metadata": {
        "colab": {
          "base_uri": "https://localhost:8080/",
          "height": 455
        },
        "id": "OSndgifieB7j",
        "outputId": "16249bea-b2ca-4638-8b77-5bbcf2fab356"
      },
      "execution_count": 9,
      "outputs": [
        {
          "output_type": "execute_result",
          "data": {
            "text/html": [
              "\n",
              "  <div id=\"df-d7b160a8-b165-472f-a689-e42fbc5a5e4d\">\n",
              "    <div class=\"colab-df-container\">\n",
              "      <div>\n",
              "<style scoped>\n",
              "    .dataframe tbody tr th:only-of-type {\n",
              "        vertical-align: middle;\n",
              "    }\n",
              "\n",
              "    .dataframe tbody tr th {\n",
              "        vertical-align: top;\n",
              "    }\n",
              "\n",
              "    .dataframe thead th {\n",
              "        text-align: right;\n",
              "    }\n",
              "</style>\n",
              "<table border=\"1\" class=\"dataframe\">\n",
              "  <thead>\n",
              "    <tr style=\"text-align: right;\">\n",
              "      <th></th>\n",
              "      <th>AAPL</th>\n",
              "      <th>FB</th>\n",
              "      <th>MSFT</th>\n",
              "      <th>NVDA</th>\n",
              "      <th>TSLA</th>\n",
              "    </tr>\n",
              "    <tr>\n",
              "      <th>Date</th>\n",
              "      <th></th>\n",
              "      <th></th>\n",
              "      <th></th>\n",
              "      <th></th>\n",
              "      <th></th>\n",
              "    </tr>\n",
              "  </thead>\n",
              "  <tbody>\n",
              "    <tr>\n",
              "      <th>2021-01-04</th>\n",
              "      <td>128.62</td>\n",
              "      <td>268.94</td>\n",
              "      <td>215.88</td>\n",
              "      <td>131.02</td>\n",
              "      <td>729.77</td>\n",
              "    </tr>\n",
              "    <tr>\n",
              "      <th>2021-01-05</th>\n",
              "      <td>130.21</td>\n",
              "      <td>270.97</td>\n",
              "      <td>216.09</td>\n",
              "      <td>133.93</td>\n",
              "      <td>735.11</td>\n",
              "    </tr>\n",
              "    <tr>\n",
              "      <th>2021-01-06</th>\n",
              "      <td>125.82</td>\n",
              "      <td>263.31</td>\n",
              "      <td>210.49</td>\n",
              "      <td>126.03</td>\n",
              "      <td>755.98</td>\n",
              "    </tr>\n",
              "    <tr>\n",
              "      <th>2021-01-07</th>\n",
              "      <td>130.12</td>\n",
              "      <td>268.74</td>\n",
              "      <td>216.48</td>\n",
              "      <td>133.32</td>\n",
              "      <td>816.04</td>\n",
              "    </tr>\n",
              "    <tr>\n",
              "      <th>2021-01-08</th>\n",
              "      <td>131.24</td>\n",
              "      <td>267.57</td>\n",
              "      <td>217.79</td>\n",
              "      <td>132.65</td>\n",
              "      <td>880.02</td>\n",
              "    </tr>\n",
              "    <tr>\n",
              "      <th>...</th>\n",
              "      <td>...</td>\n",
              "      <td>...</td>\n",
              "      <td>...</td>\n",
              "      <td>...</td>\n",
              "      <td>...</td>\n",
              "    </tr>\n",
              "    <tr>\n",
              "      <th>2022-01-19</th>\n",
              "      <td>166.23</td>\n",
              "      <td>319.59</td>\n",
              "      <td>303.33</td>\n",
              "      <td>250.67</td>\n",
              "      <td>995.65</td>\n",
              "    </tr>\n",
              "    <tr>\n",
              "      <th>2022-01-20</th>\n",
              "      <td>164.51</td>\n",
              "      <td>316.56</td>\n",
              "      <td>301.60</td>\n",
              "      <td>241.50</td>\n",
              "      <td>996.27</td>\n",
              "    </tr>\n",
              "    <tr>\n",
              "      <th>2022-01-21</th>\n",
              "      <td>162.41</td>\n",
              "      <td>303.17</td>\n",
              "      <td>296.03</td>\n",
              "      <td>233.74</td>\n",
              "      <td>943.90</td>\n",
              "    </tr>\n",
              "    <tr>\n",
              "      <th>2022-01-24</th>\n",
              "      <td>161.62</td>\n",
              "      <td>308.71</td>\n",
              "      <td>296.37</td>\n",
              "      <td>233.72</td>\n",
              "      <td>930.00</td>\n",
              "    </tr>\n",
              "    <tr>\n",
              "      <th>2022-01-25</th>\n",
              "      <td>158.14</td>\n",
              "      <td>300.35</td>\n",
              "      <td>287.49</td>\n",
              "      <td>220.68</td>\n",
              "      <td>907.55</td>\n",
              "    </tr>\n",
              "  </tbody>\n",
              "</table>\n",
              "<p>268 rows × 5 columns</p>\n",
              "</div>\n",
              "      <button class=\"colab-df-convert\" onclick=\"convertToInteractive('df-d7b160a8-b165-472f-a689-e42fbc5a5e4d')\"\n",
              "              title=\"Convert this dataframe to an interactive table.\"\n",
              "              style=\"display:none;\">\n",
              "        \n",
              "  <svg xmlns=\"http://www.w3.org/2000/svg\" height=\"24px\"viewBox=\"0 0 24 24\"\n",
              "       width=\"24px\">\n",
              "    <path d=\"M0 0h24v24H0V0z\" fill=\"none\"/>\n",
              "    <path d=\"M18.56 5.44l.94 2.06.94-2.06 2.06-.94-2.06-.94-.94-2.06-.94 2.06-2.06.94zm-11 1L8.5 8.5l.94-2.06 2.06-.94-2.06-.94L8.5 2.5l-.94 2.06-2.06.94zm10 10l.94 2.06.94-2.06 2.06-.94-2.06-.94-.94-2.06-.94 2.06-2.06.94z\"/><path d=\"M17.41 7.96l-1.37-1.37c-.4-.4-.92-.59-1.43-.59-.52 0-1.04.2-1.43.59L10.3 9.45l-7.72 7.72c-.78.78-.78 2.05 0 2.83L4 21.41c.39.39.9.59 1.41.59.51 0 1.02-.2 1.41-.59l7.78-7.78 2.81-2.81c.8-.78.8-2.07 0-2.86zM5.41 20L4 18.59l7.72-7.72 1.47 1.35L5.41 20z\"/>\n",
              "  </svg>\n",
              "      </button>\n",
              "      \n",
              "  <style>\n",
              "    .colab-df-container {\n",
              "      display:flex;\n",
              "      flex-wrap:wrap;\n",
              "      gap: 12px;\n",
              "    }\n",
              "\n",
              "    .colab-df-convert {\n",
              "      background-color: #E8F0FE;\n",
              "      border: none;\n",
              "      border-radius: 50%;\n",
              "      cursor: pointer;\n",
              "      display: none;\n",
              "      fill: #1967D2;\n",
              "      height: 32px;\n",
              "      padding: 0 0 0 0;\n",
              "      width: 32px;\n",
              "    }\n",
              "\n",
              "    .colab-df-convert:hover {\n",
              "      background-color: #E2EBFA;\n",
              "      box-shadow: 0px 1px 2px rgba(60, 64, 67, 0.3), 0px 1px 3px 1px rgba(60, 64, 67, 0.15);\n",
              "      fill: #174EA6;\n",
              "    }\n",
              "\n",
              "    [theme=dark] .colab-df-convert {\n",
              "      background-color: #3B4455;\n",
              "      fill: #D2E3FC;\n",
              "    }\n",
              "\n",
              "    [theme=dark] .colab-df-convert:hover {\n",
              "      background-color: #434B5C;\n",
              "      box-shadow: 0px 1px 3px 1px rgba(0, 0, 0, 0.15);\n",
              "      filter: drop-shadow(0px 1px 2px rgba(0, 0, 0, 0.3));\n",
              "      fill: #FFFFFF;\n",
              "    }\n",
              "  </style>\n",
              "\n",
              "      <script>\n",
              "        const buttonEl =\n",
              "          document.querySelector('#df-d7b160a8-b165-472f-a689-e42fbc5a5e4d button.colab-df-convert');\n",
              "        buttonEl.style.display =\n",
              "          google.colab.kernel.accessAllowed ? 'block' : 'none';\n",
              "\n",
              "        async function convertToInteractive(key) {\n",
              "          const element = document.querySelector('#df-d7b160a8-b165-472f-a689-e42fbc5a5e4d');\n",
              "          const dataTable =\n",
              "            await google.colab.kernel.invokeFunction('convertToInteractive',\n",
              "                                                     [key], {});\n",
              "          if (!dataTable) return;\n",
              "\n",
              "          const docLinkHtml = 'Like what you see? Visit the ' +\n",
              "            '<a target=\"_blank\" href=https://colab.research.google.com/notebooks/data_table.ipynb>data table notebook</a>'\n",
              "            + ' to learn more about interactive tables.';\n",
              "          element.innerHTML = '';\n",
              "          dataTable['output_type'] = 'display_data';\n",
              "          await google.colab.output.renderOutput(dataTable, element);\n",
              "          const docLink = document.createElement('div');\n",
              "          docLink.innerHTML = docLinkHtml;\n",
              "          element.appendChild(docLink);\n",
              "        }\n",
              "      </script>\n",
              "    </div>\n",
              "  </div>\n",
              "  "
            ],
            "text/plain": [
              "              AAPL      FB    MSFT    NVDA    TSLA\n",
              "Date                                              \n",
              "2021-01-04  128.62  268.94  215.88  131.02  729.77\n",
              "2021-01-05  130.21  270.97  216.09  133.93  735.11\n",
              "2021-01-06  125.82  263.31  210.49  126.03  755.98\n",
              "2021-01-07  130.12  268.74  216.48  133.32  816.04\n",
              "2021-01-08  131.24  267.57  217.79  132.65  880.02\n",
              "...            ...     ...     ...     ...     ...\n",
              "2022-01-19  166.23  319.59  303.33  250.67  995.65\n",
              "2022-01-20  164.51  316.56  301.60  241.50  996.27\n",
              "2022-01-21  162.41  303.17  296.03  233.74  943.90\n",
              "2022-01-24  161.62  308.71  296.37  233.72  930.00\n",
              "2022-01-25  158.14  300.35  287.49  220.68  907.55\n",
              "\n",
              "[268 rows x 5 columns]"
            ]
          },
          "metadata": {},
          "execution_count": 9
        }
      ]
    },
    {
      "cell_type": "code",
      "source": [
        "rendimientos = precios.pct_change()[1:]\n",
        "rendimientos"
      ],
      "metadata": {
        "colab": {
          "base_uri": "https://localhost:8080/",
          "height": 455
        },
        "id": "-yAC3Q8GfFM-",
        "outputId": "66cad5be-78bd-492d-e684-fd461121cddb"
      },
      "execution_count": 10,
      "outputs": [
        {
          "output_type": "execute_result",
          "data": {
            "text/html": [
              "\n",
              "  <div id=\"df-57cdfbeb-8f8e-47da-996c-3adffff75d38\">\n",
              "    <div class=\"colab-df-container\">\n",
              "      <div>\n",
              "<style scoped>\n",
              "    .dataframe tbody tr th:only-of-type {\n",
              "        vertical-align: middle;\n",
              "    }\n",
              "\n",
              "    .dataframe tbody tr th {\n",
              "        vertical-align: top;\n",
              "    }\n",
              "\n",
              "    .dataframe thead th {\n",
              "        text-align: right;\n",
              "    }\n",
              "</style>\n",
              "<table border=\"1\" class=\"dataframe\">\n",
              "  <thead>\n",
              "    <tr style=\"text-align: right;\">\n",
              "      <th></th>\n",
              "      <th>AAPL</th>\n",
              "      <th>FB</th>\n",
              "      <th>MSFT</th>\n",
              "      <th>NVDA</th>\n",
              "      <th>TSLA</th>\n",
              "    </tr>\n",
              "    <tr>\n",
              "      <th>Date</th>\n",
              "      <th></th>\n",
              "      <th></th>\n",
              "      <th></th>\n",
              "      <th></th>\n",
              "      <th></th>\n",
              "    </tr>\n",
              "  </thead>\n",
              "  <tbody>\n",
              "    <tr>\n",
              "      <th>2021-01-05</th>\n",
              "      <td>0.012362</td>\n",
              "      <td>0.007548</td>\n",
              "      <td>0.000973</td>\n",
              "      <td>0.022210</td>\n",
              "      <td>0.007317</td>\n",
              "    </tr>\n",
              "    <tr>\n",
              "      <th>2021-01-06</th>\n",
              "      <td>-0.033715</td>\n",
              "      <td>-0.028269</td>\n",
              "      <td>-0.025915</td>\n",
              "      <td>-0.058986</td>\n",
              "      <td>0.028390</td>\n",
              "    </tr>\n",
              "    <tr>\n",
              "      <th>2021-01-07</th>\n",
              "      <td>0.034176</td>\n",
              "      <td>0.020622</td>\n",
              "      <td>0.028457</td>\n",
              "      <td>0.057843</td>\n",
              "      <td>0.079447</td>\n",
              "    </tr>\n",
              "    <tr>\n",
              "      <th>2021-01-08</th>\n",
              "      <td>0.008607</td>\n",
              "      <td>-0.004354</td>\n",
              "      <td>0.006051</td>\n",
              "      <td>-0.005026</td>\n",
              "      <td>0.078403</td>\n",
              "    </tr>\n",
              "    <tr>\n",
              "      <th>2021-01-11</th>\n",
              "      <td>-0.023240</td>\n",
              "      <td>-0.040102</td>\n",
              "      <td>-0.009688</td>\n",
              "      <td>0.026008</td>\n",
              "      <td>-0.078214</td>\n",
              "    </tr>\n",
              "    <tr>\n",
              "      <th>...</th>\n",
              "      <td>...</td>\n",
              "      <td>...</td>\n",
              "      <td>...</td>\n",
              "      <td>...</td>\n",
              "      <td>...</td>\n",
              "    </tr>\n",
              "    <tr>\n",
              "      <th>2022-01-19</th>\n",
              "      <td>-0.021025</td>\n",
              "      <td>0.004526</td>\n",
              "      <td>0.002247</td>\n",
              "      <td>-0.032274</td>\n",
              "      <td>-0.033828</td>\n",
              "    </tr>\n",
              "    <tr>\n",
              "      <th>2022-01-20</th>\n",
              "      <td>-0.010347</td>\n",
              "      <td>-0.009481</td>\n",
              "      <td>-0.005703</td>\n",
              "      <td>-0.036582</td>\n",
              "      <td>0.000623</td>\n",
              "    </tr>\n",
              "    <tr>\n",
              "      <th>2022-01-21</th>\n",
              "      <td>-0.012765</td>\n",
              "      <td>-0.042298</td>\n",
              "      <td>-0.018468</td>\n",
              "      <td>-0.032133</td>\n",
              "      <td>-0.052566</td>\n",
              "    </tr>\n",
              "    <tr>\n",
              "      <th>2022-01-24</th>\n",
              "      <td>-0.004864</td>\n",
              "      <td>0.018274</td>\n",
              "      <td>0.001149</td>\n",
              "      <td>-0.000086</td>\n",
              "      <td>-0.014726</td>\n",
              "    </tr>\n",
              "    <tr>\n",
              "      <th>2022-01-25</th>\n",
              "      <td>-0.021532</td>\n",
              "      <td>-0.027080</td>\n",
              "      <td>-0.029963</td>\n",
              "      <td>-0.055793</td>\n",
              "      <td>-0.024140</td>\n",
              "    </tr>\n",
              "  </tbody>\n",
              "</table>\n",
              "<p>267 rows × 5 columns</p>\n",
              "</div>\n",
              "      <button class=\"colab-df-convert\" onclick=\"convertToInteractive('df-57cdfbeb-8f8e-47da-996c-3adffff75d38')\"\n",
              "              title=\"Convert this dataframe to an interactive table.\"\n",
              "              style=\"display:none;\">\n",
              "        \n",
              "  <svg xmlns=\"http://www.w3.org/2000/svg\" height=\"24px\"viewBox=\"0 0 24 24\"\n",
              "       width=\"24px\">\n",
              "    <path d=\"M0 0h24v24H0V0z\" fill=\"none\"/>\n",
              "    <path d=\"M18.56 5.44l.94 2.06.94-2.06 2.06-.94-2.06-.94-.94-2.06-.94 2.06-2.06.94zm-11 1L8.5 8.5l.94-2.06 2.06-.94-2.06-.94L8.5 2.5l-.94 2.06-2.06.94zm10 10l.94 2.06.94-2.06 2.06-.94-2.06-.94-.94-2.06-.94 2.06-2.06.94z\"/><path d=\"M17.41 7.96l-1.37-1.37c-.4-.4-.92-.59-1.43-.59-.52 0-1.04.2-1.43.59L10.3 9.45l-7.72 7.72c-.78.78-.78 2.05 0 2.83L4 21.41c.39.39.9.59 1.41.59.51 0 1.02-.2 1.41-.59l7.78-7.78 2.81-2.81c.8-.78.8-2.07 0-2.86zM5.41 20L4 18.59l7.72-7.72 1.47 1.35L5.41 20z\"/>\n",
              "  </svg>\n",
              "      </button>\n",
              "      \n",
              "  <style>\n",
              "    .colab-df-container {\n",
              "      display:flex;\n",
              "      flex-wrap:wrap;\n",
              "      gap: 12px;\n",
              "    }\n",
              "\n",
              "    .colab-df-convert {\n",
              "      background-color: #E8F0FE;\n",
              "      border: none;\n",
              "      border-radius: 50%;\n",
              "      cursor: pointer;\n",
              "      display: none;\n",
              "      fill: #1967D2;\n",
              "      height: 32px;\n",
              "      padding: 0 0 0 0;\n",
              "      width: 32px;\n",
              "    }\n",
              "\n",
              "    .colab-df-convert:hover {\n",
              "      background-color: #E2EBFA;\n",
              "      box-shadow: 0px 1px 2px rgba(60, 64, 67, 0.3), 0px 1px 3px 1px rgba(60, 64, 67, 0.15);\n",
              "      fill: #174EA6;\n",
              "    }\n",
              "\n",
              "    [theme=dark] .colab-df-convert {\n",
              "      background-color: #3B4455;\n",
              "      fill: #D2E3FC;\n",
              "    }\n",
              "\n",
              "    [theme=dark] .colab-df-convert:hover {\n",
              "      background-color: #434B5C;\n",
              "      box-shadow: 0px 1px 3px 1px rgba(0, 0, 0, 0.15);\n",
              "      filter: drop-shadow(0px 1px 2px rgba(0, 0, 0, 0.3));\n",
              "      fill: #FFFFFF;\n",
              "    }\n",
              "  </style>\n",
              "\n",
              "      <script>\n",
              "        const buttonEl =\n",
              "          document.querySelector('#df-57cdfbeb-8f8e-47da-996c-3adffff75d38 button.colab-df-convert');\n",
              "        buttonEl.style.display =\n",
              "          google.colab.kernel.accessAllowed ? 'block' : 'none';\n",
              "\n",
              "        async function convertToInteractive(key) {\n",
              "          const element = document.querySelector('#df-57cdfbeb-8f8e-47da-996c-3adffff75d38');\n",
              "          const dataTable =\n",
              "            await google.colab.kernel.invokeFunction('convertToInteractive',\n",
              "                                                     [key], {});\n",
              "          if (!dataTable) return;\n",
              "\n",
              "          const docLinkHtml = 'Like what you see? Visit the ' +\n",
              "            '<a target=\"_blank\" href=https://colab.research.google.com/notebooks/data_table.ipynb>data table notebook</a>'\n",
              "            + ' to learn more about interactive tables.';\n",
              "          element.innerHTML = '';\n",
              "          dataTable['output_type'] = 'display_data';\n",
              "          await google.colab.output.renderOutput(dataTable, element);\n",
              "          const docLink = document.createElement('div');\n",
              "          docLink.innerHTML = docLinkHtml;\n",
              "          element.appendChild(docLink);\n",
              "        }\n",
              "      </script>\n",
              "    </div>\n",
              "  </div>\n",
              "  "
            ],
            "text/plain": [
              "                AAPL        FB      MSFT      NVDA      TSLA\n",
              "Date                                                        \n",
              "2021-01-05  0.012362  0.007548  0.000973  0.022210  0.007317\n",
              "2021-01-06 -0.033715 -0.028269 -0.025915 -0.058986  0.028390\n",
              "2021-01-07  0.034176  0.020622  0.028457  0.057843  0.079447\n",
              "2021-01-08  0.008607 -0.004354  0.006051 -0.005026  0.078403\n",
              "2021-01-11 -0.023240 -0.040102 -0.009688  0.026008 -0.078214\n",
              "...              ...       ...       ...       ...       ...\n",
              "2022-01-19 -0.021025  0.004526  0.002247 -0.032274 -0.033828\n",
              "2022-01-20 -0.010347 -0.009481 -0.005703 -0.036582  0.000623\n",
              "2022-01-21 -0.012765 -0.042298 -0.018468 -0.032133 -0.052566\n",
              "2022-01-24 -0.004864  0.018274  0.001149 -0.000086 -0.014726\n",
              "2022-01-25 -0.021532 -0.027080 -0.029963 -0.055793 -0.024140\n",
              "\n",
              "[267 rows x 5 columns]"
            ]
          },
          "metadata": {},
          "execution_count": 10
        }
      ]
    },
    {
      "cell_type": "markdown",
      "source": [
        "## PASO 2: **Calcular Riesgo y rendimiento**"
      ],
      "metadata": {
        "id": "-DlkhBDsnKHt"
      }
    },
    {
      "cell_type": "markdown",
      "source": [
        "### **2.1. Rendimientos esperados**"
      ],
      "metadata": {
        "id": "tMyRqtGeiLb0"
      }
    },
    {
      "cell_type": "markdown",
      "source": [
        "Los modelos de optimización requieren conocer previamente los rendimientos esperados. En la práctica, estos se calculan en función de datos históricos. "
      ],
      "metadata": {
        "id": "RQXYfG0WsMD-"
      }
    },
    {
      "cell_type": "markdown",
      "source": [
        "Usamos función `mean` que vienen en la biblioteca `numpy`"
      ],
      "metadata": {
        "id": "h3q715Vyqo4T"
      }
    },
    {
      "cell_type": "code",
      "source": [
        "rendEsp = rendimientos.mean()\n",
        "print(rendEsp)\n",
        "type(rendEsp)"
      ],
      "metadata": {
        "colab": {
          "base_uri": "https://localhost:8080/"
        },
        "id": "2lEbjiPSg8WX",
        "outputId": "d821092b-150e-4d01-f156-8a49b94c32af"
      },
      "execution_count": 11,
      "outputs": [
        {
          "output_type": "stream",
          "name": "stdout",
          "text": [
            "AAPL    0.000898\n",
            "FB      0.000592\n",
            "MSFT    0.001167\n",
            "NVDA    0.002365\n",
            "TSLA    0.001435\n",
            "dtype: float64\n"
          ]
        },
        {
          "output_type": "execute_result",
          "data": {
            "text/plain": [
              "pandas.core.series.Series"
            ]
          },
          "metadata": {},
          "execution_count": 11
        }
      ]
    },
    {
      "cell_type": "markdown",
      "source": [
        "El módulo `expected_returns` de la biblioteca` PyPortfolioOpt` proporciona las funciones para estimar los rendimientos esperados de las acciones.\n",
        "\n",
        "Todas las funciones internamente transforman los precios de las acciones en rendimientos porcentuales antes de calcular sus respectivas estimaciones de rendimientos esperados.\n",
        "\n",
        "Los métodos disponibles para estimar el rendimiento esperado son:\n",
        "\n",
        "* Renidmiento histórico medio.\n",
        "* Rendimiento histórico medio ponderado exponencialmente.\n",
        "* CAPM.\n",
        "\n",
        "Por defecto, la salida de estos métodos son rendimientos esperados anuales."
      ],
      "metadata": {
        "id": "SFBtBsdKthNB"
      }
    },
    {
      "cell_type": "code",
      "source": [
        "#Renidmiento histórico medio.\n",
        "rendEsp1 = expected_returns.mean_historical_return(precios, returns_data=False, compounding=True, frequency=252, log_returns=False)\n",
        "rendEsp1"
      ],
      "metadata": {
        "id": "UQBraefQi-F8",
        "colab": {
          "base_uri": "https://localhost:8080/"
        },
        "outputId": "97127d15-a345-4776-93dc-31a9d4cc561f"
      },
      "execution_count": 12,
      "outputs": [
        {
          "output_type": "execute_result",
          "data": {
            "text/plain": [
              "AAPL    0.215324\n",
              "FB      0.109883\n",
              "MSFT    0.310452\n",
              "NVDA    0.635705\n",
              "TSLA    0.228472\n",
              "dtype: float64"
            ]
          },
          "metadata": {},
          "execution_count": 12
        }
      ]
    },
    {
      "cell_type": "code",
      "source": [
        "rendEsp1.plot(kind = \"barh\")"
      ],
      "metadata": {
        "colab": {
          "base_uri": "https://localhost:8080/",
          "height": 282
        },
        "id": "sASZIn08cHU1",
        "outputId": "04f8f4de-646b-4ac1-90e1-7e2caa3fea81"
      },
      "execution_count": 13,
      "outputs": [
        {
          "output_type": "execute_result",
          "data": {
            "text/plain": [
              "<matplotlib.axes._subplots.AxesSubplot at 0x7f12447ff990>"
            ]
          },
          "metadata": {},
          "execution_count": 13
        },
        {
          "output_type": "display_data",
          "data": {
            "image/png": "[encoded data removed]",
            "text/plain": [
              "<Figure size 432x288 with 1 Axes>"
            ]
          },
          "metadata": {
            "needs_background": "light"
          }
        }
      ]
    },
    {
      "cell_type": "code",
      "source": [
        "#Rendimiento histórico medio ponderado exponencialmente.\n",
        "rendEsp2 = expected_returns.ema_historical_return(precios, returns_data=False, compounding=True, span=500, frequency=252, log_returns=False)\n",
        "rendEsp2"
      ],
      "metadata": {
        "colab": {
          "base_uri": "https://localhost:8080/"
        },
        "id": "5Jk3oomB3xN0",
        "outputId": "b3b7750d-cd8f-4193-8cfc-a484832c1e67"
      },
      "execution_count": 14,
      "outputs": [
        {
          "output_type": "execute_result",
          "data": {
            "text/plain": [
              "AAPL    0.246520\n",
              "FB      0.020649\n",
              "MSFT    0.200765\n",
              "NVDA    0.561906\n",
              "TSLA    0.463876\n",
              "Name: 2022-01-25 00:00:00, dtype: float64"
            ]
          },
          "metadata": {},
          "execution_count": 14
        }
      ]
    },
    {
      "cell_type": "code",
      "source": [
        "rendEsp2.plot(kind = \"barh\")"
      ],
      "metadata": {
        "colab": {
          "base_uri": "https://localhost:8080/",
          "height": 282
        },
        "id": "FPTFSws0c99U",
        "outputId": "3b22a7cb-0e01-44ec-de7b-7aca227b922a"
      },
      "execution_count": 15,
      "outputs": [
        {
          "output_type": "execute_result",
          "data": {
            "text/plain": [
              "<matplotlib.axes._subplots.AxesSubplot at 0x7f12360b6b10>"
            ]
          },
          "metadata": {},
          "execution_count": 15
        },
        {
          "output_type": "display_data",
          "data": {
            "image/png": "[encoded data removed]",
            "text/plain": [
              "<Figure size 432x288 with 1 Axes>"
            ]
          },
          "metadata": {
            "needs_background": "light"
          }
        }
      ]
    },
    {
      "cell_type": "code",
      "source": [
        "#CAPM.\n",
        "rendEsp3 = expected_returns.capm_return(precios, market_prices=None, returns_data=False, risk_free_rate=0.02, compounding=True, frequency=252, log_returns=False)\n",
        "rendEsp3"
      ],
      "metadata": {
        "colab": {
          "base_uri": "https://localhost:8080/"
        },
        "id": "tDNYP9IEuR7Y",
        "outputId": "ec52bffe-4d6d-4ec3-88e4-0cb725d368a3"
      },
      "execution_count": 16,
      "outputs": [
        {
          "output_type": "execute_result",
          "data": {
            "text/plain": [
              "AAPL    0.240674\n",
              "FB      0.250635\n",
              "MSFT    0.210227\n",
              "NVDA    0.441949\n",
              "TSLA    0.520139\n",
              "Name: mkt, dtype: float64"
            ]
          },
          "metadata": {},
          "execution_count": 16
        }
      ]
    },
    {
      "cell_type": "code",
      "source": [
        "rendEsp3.plot(kind = \"barh\")"
      ],
      "metadata": {
        "colab": {
          "base_uri": "https://localhost:8080/",
          "height": 282
        },
        "id": "gWOvB8kbdEFs",
        "outputId": "8a95748b-effb-43fb-c2c2-ac92d572e9c6"
      },
      "execution_count": 17,
      "outputs": [
        {
          "output_type": "execute_result",
          "data": {
            "text/plain": [
              "<matplotlib.axes._subplots.AxesSubplot at 0x7f1235bd53d0>"
            ]
          },
          "metadata": {},
          "execution_count": 17
        },
        {
          "output_type": "display_data",
          "data": {
            "image/png": "[encoded data removed]",
            "text/plain": [
              "<Figure size 432x288 with 1 Axes>"
            ]
          },
          "metadata": {
            "needs_background": "light"
          }
        }
      ]
    },
    {
      "cell_type": "markdown",
      "source": [
        "### **2.2. Riesgos**"
      ],
      "metadata": {
        "id": "x_Ui81xwOVqO"
      }
    },
    {
      "cell_type": "markdown",
      "source": [
        "Usamos función `cov` que vienen en la biblioteca `numpy`"
      ],
      "metadata": {
        "id": "0YZjEOmBPiUu"
      }
    },
    {
      "cell_type": "code",
      "source": [
        "matrizCov = rendimientos.cov()\n",
        "print(matrizCov)\n",
        "type(matrizCov)"
      ],
      "metadata": {
        "colab": {
          "base_uri": "https://localhost:8080/"
        },
        "id": "js1XsfZphozf",
        "outputId": "c0b789c8-df77-44d3-8f3e-29d45f72db6a"
      },
      "execution_count": 18,
      "outputs": [
        {
          "output_type": "stream",
          "name": "stdout",
          "text": [
            "          AAPL        FB      MSFT      NVDA      TSLA\n",
            "AAPL  0.000250  0.000152  0.000148  0.000249  0.000271\n",
            "FB    0.000152  0.000357  0.000139  0.000254  0.000217\n",
            "MSFT  0.000148  0.000139  0.000188  0.000242  0.000206\n",
            "NVDA  0.000249  0.000254  0.000242  0.000830  0.000471\n",
            "TSLA  0.000271  0.000217  0.000206  0.000471  0.001260\n"
          ]
        },
        {
          "output_type": "execute_result",
          "data": {
            "text/plain": [
              "pandas.core.frame.DataFrame"
            ]
          },
          "metadata": {},
          "execution_count": 18
        }
      ]
    },
    {
      "cell_type": "markdown",
      "source": [
        "El módulo `risk_models` de la `bibliotecaPyPortfolioOpt` proporciona las funciones para estimar el riesgo de las acciones. El método más usado es el que estima la matriz de varianzas y covarianzas en función de los datos históricos. Esta matriz es una representación del riesgo de las acciones individuales (diagonal) y de la covariación entre acciones.\n"
      ],
      "metadata": {
        "id": "u0fI5thKOlAa"
      }
    },
    {
      "cell_type": "code",
      "source": [
        "matrizCov1 = risk_models.sample_cov(precios)\n",
        "matrizCov1"
      ],
      "metadata": {
        "id": "49cm1d0JkajV",
        "colab": {
          "base_uri": "https://localhost:8080/",
          "height": 206
        },
        "outputId": "60fde3cd-6365-4f5a-a45c-854928a1db7e"
      },
      "execution_count": 19,
      "outputs": [
        {
          "output_type": "execute_result",
          "data": {
            "text/html": [
              "\n",
              "  <div id=\"df-835e3fff-6060-4fe2-a0be-bec94b021368\">\n",
              "    <div class=\"colab-df-container\">\n",
              "      <div>\n",
              "<style scoped>\n",
              "    .dataframe tbody tr th:only-of-type {\n",
              "        vertical-align: middle;\n",
              "    }\n",
              "\n",
              "    .dataframe tbody tr th {\n",
              "        vertical-align: top;\n",
              "    }\n",
              "\n",
              "    .dataframe thead th {\n",
              "        text-align: right;\n",
              "    }\n",
              "</style>\n",
              "<table border=\"1\" class=\"dataframe\">\n",
              "  <thead>\n",
              "    <tr style=\"text-align: right;\">\n",
              "      <th></th>\n",
              "      <th>AAPL</th>\n",
              "      <th>FB</th>\n",
              "      <th>MSFT</th>\n",
              "      <th>NVDA</th>\n",
              "      <th>TSLA</th>\n",
              "    </tr>\n",
              "  </thead>\n",
              "  <tbody>\n",
              "    <tr>\n",
              "      <th>AAPL</th>\n",
              "      <td>0.062888</td>\n",
              "      <td>0.038370</td>\n",
              "      <td>0.037209</td>\n",
              "      <td>0.062872</td>\n",
              "      <td>0.068368</td>\n",
              "    </tr>\n",
              "    <tr>\n",
              "      <th>FB</th>\n",
              "      <td>0.038370</td>\n",
              "      <td>0.089951</td>\n",
              "      <td>0.034973</td>\n",
              "      <td>0.063983</td>\n",
              "      <td>0.054604</td>\n",
              "    </tr>\n",
              "    <tr>\n",
              "      <th>MSFT</th>\n",
              "      <td>0.037209</td>\n",
              "      <td>0.034973</td>\n",
              "      <td>0.047403</td>\n",
              "      <td>0.060971</td>\n",
              "      <td>0.051938</td>\n",
              "    </tr>\n",
              "    <tr>\n",
              "      <th>NVDA</th>\n",
              "      <td>0.062872</td>\n",
              "      <td>0.063983</td>\n",
              "      <td>0.060971</td>\n",
              "      <td>0.209061</td>\n",
              "      <td>0.118816</td>\n",
              "    </tr>\n",
              "    <tr>\n",
              "      <th>TSLA</th>\n",
              "      <td>0.068368</td>\n",
              "      <td>0.054604</td>\n",
              "      <td>0.051938</td>\n",
              "      <td>0.118816</td>\n",
              "      <td>0.317541</td>\n",
              "    </tr>\n",
              "  </tbody>\n",
              "</table>\n",
              "</div>\n",
              "      <button class=\"colab-df-convert\" onclick=\"convertToInteractive('df-835e3fff-6060-4fe2-a0be-bec94b021368')\"\n",
              "              title=\"Convert this dataframe to an interactive table.\"\n",
              "              style=\"display:none;\">\n",
              "        \n",
              "  <svg xmlns=\"http://www.w3.org/2000/svg\" height=\"24px\"viewBox=\"0 0 24 24\"\n",
              "       width=\"24px\">\n",
              "    <path d=\"M0 0h24v24H0V0z\" fill=\"none\"/>\n",
              "    <path d=\"M18.56 5.44l.94 2.06.94-2.06 2.06-.94-2.06-.94-.94-2.06-.94 2.06-2.06.94zm-11 1L8.5 8.5l.94-2.06 2.06-.94-2.06-.94L8.5 2.5l-.94 2.06-2.06.94zm10 10l.94 2.06.94-2.06 2.06-.94-2.06-.94-.94-2.06-.94 2.06-2.06.94z\"/><path d=\"M17.41 7.96l-1.37-1.37c-.4-.4-.92-.59-1.43-.59-.52 0-1.04.2-1.43.59L10.3 9.45l-7.72 7.72c-.78.78-.78 2.05 0 2.83L4 21.41c.39.39.9.59 1.41.59.51 0 1.02-.2 1.41-.59l7.78-7.78 2.81-2.81c.8-.78.8-2.07 0-2.86zM5.41 20L4 18.59l7.72-7.72 1.47 1.35L5.41 20z\"/>\n",
              "  </svg>\n",
              "      </button>\n",
              "      \n",
              "  <style>\n",
              "    .colab-df-container {\n",
              "      display:flex;\n",
              "      flex-wrap:wrap;\n",
              "      gap: 12px;\n",
              "    }\n",
              "\n",
              "    .colab-df-convert {\n",
              "      background-color: #E8F0FE;\n",
              "      border: none;\n",
              "      border-radius: 50%;\n",
              "      cursor: pointer;\n",
              "      display: none;\n",
              "      fill: #1967D2;\n",
              "      height: 32px;\n",
              "      padding: 0 0 0 0;\n",
              "      width: 32px;\n",
              "    }\n",
              "\n",
              "    .colab-df-convert:hover {\n",
              "      background-color: #E2EBFA;\n",
              "      box-shadow: 0px 1px 2px rgba(60, 64, 67, 0.3), 0px 1px 3px 1px rgba(60, 64, 67, 0.15);\n",
              "      fill: #174EA6;\n",
              "    }\n",
              "\n",
              "    [theme=dark] .colab-df-convert {\n",
              "      background-color: #3B4455;\n",
              "      fill: #D2E3FC;\n",
              "    }\n",
              "\n",
              "    [theme=dark] .colab-df-convert:hover {\n",
              "      background-color: #434B5C;\n",
              "      box-shadow: 0px 1px 3px 1px rgba(0, 0, 0, 0.15);\n",
              "      filter: drop-shadow(0px 1px 2px rgba(0, 0, 0, 0.3));\n",
              "      fill: #FFFFFF;\n",
              "    }\n",
              "  </style>\n",
              "\n",
              "      <script>\n",
              "        const buttonEl =\n",
              "          document.querySelector('#df-835e3fff-6060-4fe2-a0be-bec94b021368 button.colab-df-convert');\n",
              "        buttonEl.style.display =\n",
              "          google.colab.kernel.accessAllowed ? 'block' : 'none';\n",
              "\n",
              "        async function convertToInteractive(key) {\n",
              "          const element = document.querySelector('#df-835e3fff-6060-4fe2-a0be-bec94b021368');\n",
              "          const dataTable =\n",
              "            await google.colab.kernel.invokeFunction('convertToInteractive',\n",
              "                                                     [key], {});\n",
              "          if (!dataTable) return;\n",
              "\n",
              "          const docLinkHtml = 'Like what you see? Visit the ' +\n",
              "            '<a target=\"_blank\" href=https://colab.research.google.com/notebooks/data_table.ipynb>data table notebook</a>'\n",
              "            + ' to learn more about interactive tables.';\n",
              "          element.innerHTML = '';\n",
              "          dataTable['output_type'] = 'display_data';\n",
              "          await google.colab.output.renderOutput(dataTable, element);\n",
              "          const docLink = document.createElement('div');\n",
              "          docLink.innerHTML = docLinkHtml;\n",
              "          element.appendChild(docLink);\n",
              "        }\n",
              "      </script>\n",
              "    </div>\n",
              "  </div>\n",
              "  "
            ],
            "text/plain": [
              "          AAPL        FB      MSFT      NVDA      TSLA\n",
              "AAPL  0.062888  0.038370  0.037209  0.062872  0.068368\n",
              "FB    0.038370  0.089951  0.034973  0.063983  0.054604\n",
              "MSFT  0.037209  0.034973  0.047403  0.060971  0.051938\n",
              "NVDA  0.062872  0.063983  0.060971  0.209061  0.118816\n",
              "TSLA  0.068368  0.054604  0.051938  0.118816  0.317541"
            ]
          },
          "metadata": {},
          "execution_count": 19
        }
      ]
    },
    {
      "cell_type": "code",
      "source": [
        "plotting.plot_covariance(matrizCov1, plot_correlation=True, show_tickers=True)"
      ],
      "metadata": {
        "colab": {
          "base_uri": "https://localhost:8080/",
          "height": 314
        },
        "id": "ryN3a4r2ZdW3",
        "outputId": "e85118b0-940c-4db6-b56b-7c325539bc18"
      },
      "execution_count": 20,
      "outputs": [
        {
          "output_type": "execute_result",
          "data": {
            "text/plain": [
              "<matplotlib.axes._subplots.AxesSubplot at 0x7f1235b64e90>"
            ]
          },
          "metadata": {},
          "execution_count": 20
        },
        {
          "output_type": "display_data",
          "data": {
            "image/png": "[encoded data removed]",
            "text/plain": [
              "<Figure size 432x288 with 2 Axes>"
            ]
          },
          "metadata": {
            "needs_background": "light"
          }
        }
      ]
    },
    {
      "cell_type": "markdown",
      "source": [
        "En la práctica contiene errores de especificación y falta de robustez. Esto es particularmente problemático en la optimización a través del método Rendimiento - Riesgo, porque el optimizador puede otorgar mayor credibilidad a los valores erróneos. Por lo tanto, se sugiere el estimador de contracción implementado en la biblioteca `bibliotecaPyPortfolioOpt`\n",
        "\n",
        "Se utilizará la estimación de covarianza de Ledoit-Wolf.\n",
        "http://www.ledoit.net/honey.pdf"
      ],
      "metadata": {
        "id": "qj1HZ7grWFVe"
      }
    },
    {
      "cell_type": "code",
      "source": [
        "matrizCov2 = risk_models.CovarianceShrinkage(precios).ledoit_wolf()\n",
        "matrizCov2"
      ],
      "metadata": {
        "colab": {
          "base_uri": "https://localhost:8080/",
          "height": 206
        },
        "id": "sUnfHeQ6uRwJ",
        "outputId": "596347f5-36c9-47ca-b97d-9d52017be03c"
      },
      "execution_count": 21,
      "outputs": [
        {
          "output_type": "execute_result",
          "data": {
            "text/html": [
              "\n",
              "  <div id=\"df-5b713e46-8734-43be-9181-3cdd5c06668a\">\n",
              "    <div class=\"colab-df-container\">\n",
              "      <div>\n",
              "<style scoped>\n",
              "    .dataframe tbody tr th:only-of-type {\n",
              "        vertical-align: middle;\n",
              "    }\n",
              "\n",
              "    .dataframe tbody tr th {\n",
              "        vertical-align: top;\n",
              "    }\n",
              "\n",
              "    .dataframe thead th {\n",
              "        text-align: right;\n",
              "    }\n",
              "</style>\n",
              "<table border=\"1\" class=\"dataframe\">\n",
              "  <thead>\n",
              "    <tr style=\"text-align: right;\">\n",
              "      <th></th>\n",
              "      <th>AAPL</th>\n",
              "      <th>FB</th>\n",
              "      <th>MSFT</th>\n",
              "      <th>NVDA</th>\n",
              "      <th>TSLA</th>\n",
              "    </tr>\n",
              "  </thead>\n",
              "  <tbody>\n",
              "    <tr>\n",
              "      <th>AAPL</th>\n",
              "      <td>0.065844</td>\n",
              "      <td>0.036741</td>\n",
              "      <td>0.035629</td>\n",
              "      <td>0.060204</td>\n",
              "      <td>0.065466</td>\n",
              "    </tr>\n",
              "    <tr>\n",
              "      <th>FB</th>\n",
              "      <td>0.036741</td>\n",
              "      <td>0.091759</td>\n",
              "      <td>0.033488</td>\n",
              "      <td>0.061267</td>\n",
              "      <td>0.052286</td>\n",
              "    </tr>\n",
              "    <tr>\n",
              "      <th>MSFT</th>\n",
              "      <td>0.035629</td>\n",
              "      <td>0.033488</td>\n",
              "      <td>0.051017</td>\n",
              "      <td>0.058383</td>\n",
              "      <td>0.049734</td>\n",
              "    </tr>\n",
              "    <tr>\n",
              "      <th>NVDA</th>\n",
              "      <td>0.060204</td>\n",
              "      <td>0.061267</td>\n",
              "      <td>0.058383</td>\n",
              "      <td>0.205813</td>\n",
              "      <td>0.113772</td>\n",
              "    </tr>\n",
              "    <tr>\n",
              "      <th>TSLA</th>\n",
              "      <td>0.065466</td>\n",
              "      <td>0.052286</td>\n",
              "      <td>0.049734</td>\n",
              "      <td>0.113772</td>\n",
              "      <td>0.309688</td>\n",
              "    </tr>\n",
              "  </tbody>\n",
              "</table>\n",
              "</div>\n",
              "      <button class=\"colab-df-convert\" onclick=\"convertToInteractive('df-5b713e46-8734-43be-9181-3cdd5c06668a')\"\n",
              "              title=\"Convert this dataframe to an interactive table.\"\n",
              "              style=\"display:none;\">\n",
              "        \n",
              "  <svg xmlns=\"http://www.w3.org/2000/svg\" height=\"24px\"viewBox=\"0 0 24 24\"\n",
              "       width=\"24px\">\n",
              "    <path d=\"M0 0h24v24H0V0z\" fill=\"none\"/>\n",
              "    <path d=\"M18.56 5.44l.94 2.06.94-2.06 2.06-.94-2.06-.94-.94-2.06-.94 2.06-2.06.94zm-11 1L8.5 8.5l.94-2.06 2.06-.94-2.06-.94L8.5 2.5l-.94 2.06-2.06.94zm10 10l.94 2.06.94-2.06 2.06-.94-2.06-.94-.94-2.06-.94 2.06-2.06.94z\"/><path d=\"M17.41 7.96l-1.37-1.37c-.4-.4-.92-.59-1.43-.59-.52 0-1.04.2-1.43.59L10.3 9.45l-7.72 7.72c-.78.78-.78 2.05 0 2.83L4 21.41c.39.39.9.59 1.41.59.51 0 1.02-.2 1.41-.59l7.78-7.78 2.81-2.81c.8-.78.8-2.07 0-2.86zM5.41 20L4 18.59l7.72-7.72 1.47 1.35L5.41 20z\"/>\n",
              "  </svg>\n",
              "      </button>\n",
              "      \n",
              "  <style>\n",
              "    .colab-df-container {\n",
              "      display:flex;\n",
              "      flex-wrap:wrap;\n",
              "      gap: 12px;\n",
              "    }\n",
              "\n",
              "    .colab-df-convert {\n",
              "      background-color: #E8F0FE;\n",
              "      border: none;\n",
              "      border-radius: 50%;\n",
              "      cursor: pointer;\n",
              "      display: none;\n",
              "      fill: #1967D2;\n",
              "      height: 32px;\n",
              "      padding: 0 0 0 0;\n",
              "      width: 32px;\n",
              "    }\n",
              "\n",
              "    .colab-df-convert:hover {\n",
              "      background-color: #E2EBFA;\n",
              "      box-shadow: 0px 1px 2px rgba(60, 64, 67, 0.3), 0px 1px 3px 1px rgba(60, 64, 67, 0.15);\n",
              "      fill: #174EA6;\n",
              "    }\n",
              "\n",
              "    [theme=dark] .colab-df-convert {\n",
              "      background-color: #3B4455;\n",
              "      fill: #D2E3FC;\n",
              "    }\n",
              "\n",
              "    [theme=dark] .colab-df-convert:hover {\n",
              "      background-color: #434B5C;\n",
              "      box-shadow: 0px 1px 3px 1px rgba(0, 0, 0, 0.15);\n",
              "      filter: drop-shadow(0px 1px 2px rgba(0, 0, 0, 0.3));\n",
              "      fill: #FFFFFF;\n",
              "    }\n",
              "  </style>\n",
              "\n",
              "      <script>\n",
              "        const buttonEl =\n",
              "          document.querySelector('#df-5b713e46-8734-43be-9181-3cdd5c06668a button.colab-df-convert');\n",
              "        buttonEl.style.display =\n",
              "          google.colab.kernel.accessAllowed ? 'block' : 'none';\n",
              "\n",
              "        async function convertToInteractive(key) {\n",
              "          const element = document.querySelector('#df-5b713e46-8734-43be-9181-3cdd5c06668a');\n",
              "          const dataTable =\n",
              "            await google.colab.kernel.invokeFunction('convertToInteractive',\n",
              "                                                     [key], {});\n",
              "          if (!dataTable) return;\n",
              "\n",
              "          const docLinkHtml = 'Like what you see? Visit the ' +\n",
              "            '<a target=\"_blank\" href=https://colab.research.google.com/notebooks/data_table.ipynb>data table notebook</a>'\n",
              "            + ' to learn more about interactive tables.';\n",
              "          element.innerHTML = '';\n",
              "          dataTable['output_type'] = 'display_data';\n",
              "          await google.colab.output.renderOutput(dataTable, element);\n",
              "          const docLink = document.createElement('div');\n",
              "          docLink.innerHTML = docLinkHtml;\n",
              "          element.appendChild(docLink);\n",
              "        }\n",
              "      </script>\n",
              "    </div>\n",
              "  </div>\n",
              "  "
            ],
            "text/plain": [
              "          AAPL        FB      MSFT      NVDA      TSLA\n",
              "AAPL  0.065844  0.036741  0.035629  0.060204  0.065466\n",
              "FB    0.036741  0.091759  0.033488  0.061267  0.052286\n",
              "MSFT  0.035629  0.033488  0.051017  0.058383  0.049734\n",
              "NVDA  0.060204  0.061267  0.058383  0.205813  0.113772\n",
              "TSLA  0.065466  0.052286  0.049734  0.113772  0.309688"
            ]
          },
          "metadata": {},
          "execution_count": 21
        }
      ]
    },
    {
      "cell_type": "code",
      "source": [
        "plotting.plot_covariance(matrizCov2, plot_correlation=True, show_tickers=True)"
      ],
      "metadata": {
        "colab": {
          "base_uri": "https://localhost:8080/",
          "height": 314
        },
        "id": "Dw0k4qwhuRnS",
        "outputId": "2e62a130-7cef-4377-859d-49fa7355343c"
      },
      "execution_count": 22,
      "outputs": [
        {
          "output_type": "execute_result",
          "data": {
            "text/plain": [
              "<matplotlib.axes._subplots.AxesSubplot at 0x7f12279ec890>"
            ]
          },
          "metadata": {},
          "execution_count": 22
        },
        {
          "output_type": "display_data",
          "data": {
            "image/png": "[encoded data removed]",
            "text/plain": [
              "<Figure size 432x288 with 2 Axes>"
            ]
          },
          "metadata": {
            "needs_background": "light"
          }
        }
      ]
    },
    {
      "cell_type": "markdown",
      "source": [
        "\n",
        "## PASO 3: **Determinar las participaciones**"
      ],
      "metadata": {
        "id": "EbDFFMK1Vg86"
      }
    },
    {
      "cell_type": "markdown",
      "source": [
        "Se determinan las participaciones de cada acción en la cartera usando el método de rendimiento - riesgo. Además, en todo problema de optimización existe un objetivo a optimizar y las restricciones; por ejemplo el objetivo puede ser minimizar el riesgo y la restricción un nivel de rendimiento. "
      ],
      "metadata": {
        "id": "Y8CiuarUmA40"
      }
    },
    {
      "cell_type": "markdown",
      "source": [
        "### **3.1. Armar la frotnera eficiente**"
      ],
      "metadata": {
        "id": "IDbrBiF6pJ-5"
      }
    },
    {
      "cell_type": "markdown",
      "source": [
        "La función `EfficientFrontier` permite definir la frontera eficiente, es decir, el conjunto de carteras que maximiza el rendimiento para determinados niveles de rendimiento o minimiza el riesgo para determinados niveles de rendimiento.\n",
        "\n",
        "El objeto creado con la función contiene varios métodos que corresponden a las diferentes funciones objetivo a optimizar:\n",
        "* `min_volatility()` : optimiza para obtener la mínima volatilidad, también conocida como cartera de mínima varianza o riesgo.\n",
        "* `max_sharpe()` : optimiza para obtener el máximo ratio de Sharpe, también conocida como cartera de tangencia.\n",
        "* `max_quadratic_utility()` : maximiza la utilidad cuadrática, dada una adversión al riesgo.\n",
        "* `efficient_risk()` : maximiza el rendimiento dado un nivel de riesgo.\n",
        "* `efficient_return()` : minimiza el riesgo dado un nivel de rendimiento."
      ],
      "metadata": {
        "id": "nxyr0637yF2f"
      }
    },
    {
      "cell_type": "code",
      "source": [
        "fe = EfficientFrontier(rendEsp1, matrizCov2, weight_bounds=(0, 1))"
      ],
      "metadata": {
        "id": "YFXcWzPh_N13"
      },
      "execution_count": 23,
      "outputs": []
    },
    {
      "cell_type": "markdown",
      "source": [
        "### **3.2. Definir un objetivo de optimización**"
      ],
      "metadata": {
        "id": "NL5hbLJhjE3k"
      }
    },
    {
      "cell_type": "markdown",
      "source": [
        "**3.2.1. Mínimo riesgo**\n",
        "\n",
        "Devuelve los pesos de las acciones para la cartera que minimiza la volatilidad."
      ],
      "metadata": {
        "id": "2w60maqaj_9L"
      }
    },
    {
      "cell_type": "code",
      "source": [
        "varianza_minima = fe.min_volatility()\n",
        "pesos = fe.clean_weights() # redondea los pesos y hace cero los valores muy cercanos a cero.\n",
        "pesos"
      ],
      "metadata": {
        "id": "SADkdWDglOoT",
        "colab": {
          "base_uri": "https://localhost:8080/"
        },
        "outputId": "6fa40450-1aa5-4759-aa56-02401b6b6d4b"
      },
      "execution_count": 24,
      "outputs": [
        {
          "output_type": "execute_result",
          "data": {
            "text/plain": [
              "OrderedDict([('AAPL', 0.27005),\n",
              "             ('FB', 0.16484),\n",
              "             ('MSFT', 0.56511),\n",
              "             ('NVDA', 0.0),\n",
              "             ('TSLA', 0.0)])"
            ]
          },
          "metadata": {},
          "execution_count": 24
        }
      ]
    },
    {
      "cell_type": "code",
      "source": [
        "pd.Series(pesos).plot(kind=\"pie\", figsize=(6,6))"
      ],
      "metadata": {
        "colab": {
          "base_uri": "https://localhost:8080/",
          "height": 374
        },
        "id": "p2nhWWXCjg4V",
        "outputId": "602510f6-4fda-421e-aff4-f91863dce96b"
      },
      "execution_count": 25,
      "outputs": [
        {
          "output_type": "execute_result",
          "data": {
            "text/plain": [
              "<matplotlib.axes._subplots.AxesSubplot at 0x7f122792d590>"
            ]
          },
          "metadata": {},
          "execution_count": 25
        },
        {
          "output_type": "display_data",
          "data": {
            "image/png": "[encoded data removed]",
            "text/plain": [
              "<Figure size 432x432 with 1 Axes>"
            ]
          },
          "metadata": {}
        }
      ]
    },
    {
      "cell_type": "code",
      "source": [
        "fe.portfolio_performance(verbose=True) #calcula el rendimiento esperado, volatilidad y ratio de Sharpe para la cartera optimizada."
      ],
      "metadata": {
        "id": "3SjPnoVe4geO",
        "colab": {
          "base_uri": "https://localhost:8080/"
        },
        "outputId": "4b3e59ae-8df2-4471-81f7-99ca739a2e98"
      },
      "execution_count": 26,
      "outputs": [
        {
          "output_type": "stream",
          "name": "stdout",
          "text": [
            "Expected annual return: 25.2%\n",
            "Annual volatility: 21.0%\n",
            "Sharpe Ratio: 1.10\n"
          ]
        },
        {
          "output_type": "execute_result",
          "data": {
            "text/plain": [
              "(0.2517006765289068, 0.20969509767041333, 1.1049408360184014)"
            ]
          },
          "metadata": {},
          "execution_count": 26
        }
      ]
    },
    {
      "cell_type": "markdown",
      "source": [
        "**3.2.2. Máximo ratio de Sharpe**\n",
        "\n",
        "Devuelve los pesos de las acciones que maximizan el ratio de Sharpe. Este método intenta determinar los pesos o las participaciones de las acciones que maximize el rendimiento por unidad de riesgo. Esta cartera es conocida como la cartera de tangencia, es la cartera donde la linea de mercado de capitales (capital market line) es tangente a la frontera eficiente.\n",
        "\n"
      ],
      "metadata": {
        "id": "1iPh3jEm-sCI"
      }
    },
    {
      "cell_type": "code",
      "source": [
        "fe = EfficientFrontier(rendEsp1, matrizCov2, weight_bounds=(0, 1)) # siempre se debe crear una nieva frontera eficiente\n",
        "max_sharpe = fe.max_sharpe(risk_free_rate=0.02)\n",
        "pesos = fe.clean_weights() # redondea los pesos y hace cero los valores muy cercanos a cero.\n",
        "pesos"
      ],
      "metadata": {
        "id": "yhqRnl0AlOjO",
        "colab": {
          "base_uri": "https://localhost:8080/"
        },
        "outputId": "825044f2-278d-4712-e248-e558c067c716"
      },
      "execution_count": 27,
      "outputs": [
        {
          "output_type": "execute_result",
          "data": {
            "text/plain": [
              "OrderedDict([('AAPL', 0.0),\n",
              "             ('FB', 0.0),\n",
              "             ('MSFT', 0.62247),\n",
              "             ('NVDA', 0.37753),\n",
              "             ('TSLA', 0.0)])"
            ]
          },
          "metadata": {},
          "execution_count": 27
        }
      ]
    },
    {
      "cell_type": "code",
      "source": [
        "pd.Series(pesos).plot(kind=\"pie\", figsize=(6,6), )"
      ],
      "metadata": {
        "id": "6vIX4MjWlOe3",
        "colab": {
          "base_uri": "https://localhost:8080/",
          "height": 374
        },
        "outputId": "d4cc03f1-5fe2-4987-e2ff-edde2483f463"
      },
      "execution_count": 28,
      "outputs": [
        {
          "output_type": "execute_result",
          "data": {
            "text/plain": [
              "<matplotlib.axes._subplots.AxesSubplot at 0x7f12258e47d0>"
            ]
          },
          "metadata": {},
          "execution_count": 28
        },
        {
          "output_type": "display_data",
          "data": {
            "image/png": "[encoded data removed]",
            "text/plain": [
              "<Figure size 432x432 with 1 Axes>"
            ]
          },
          "metadata": {}
        }
      ]
    },
    {
      "cell_type": "code",
      "source": [
        "fe.portfolio_performance(verbose=True)"
      ],
      "metadata": {
        "colab": {
          "base_uri": "https://localhost:8080/"
        },
        "id": "ng6PMCcJARsR",
        "outputId": "f4c11b92-a506-4099-97aa-dfccf455536f"
      },
      "execution_count": 29,
      "outputs": [
        {
          "output_type": "stream",
          "name": "stdout",
          "text": [
            "Expected annual return: 43.3%\n",
            "Annual volatility: 27.7%\n",
            "Sharpe Ratio: 1.49\n"
          ]
        },
        {
          "output_type": "execute_result",
          "data": {
            "text/plain": [
              "(0.43324328929678524, 0.27666160528288747, 1.4936777688188518)"
            ]
          },
          "metadata": {},
          "execution_count": 29
        }
      ]
    },
    {
      "cell_type": "markdown",
      "source": [
        "**3.2.3. Máximo rendimiento dado un nivel de riesgo**\n",
        "\n",
        "Determina las participaciones que maximizan el rendimiento para un nivel dado de riesgo. Es uno de los supuestos básicos de la teoría de Markowitz (Insaciabilidad).  "
      ],
      "metadata": {
        "id": "OnTlF64vBEq4"
      }
    },
    {
      "cell_type": "code",
      "source": [
        "fe = EfficientFrontier(rendEsp1, matrizCov2)\n",
        "fe.efficient_risk(target_volatility= 0.25)\n",
        "pesos = fe.clean_weights() \n",
        "pesos\n"
      ],
      "metadata": {
        "id": "CU9OBMewlObR",
        "colab": {
          "base_uri": "https://localhost:8080/"
        },
        "outputId": "7d97461b-892f-41c0-9f8a-388cdde05a05"
      },
      "execution_count": 30,
      "outputs": [
        {
          "output_type": "execute_result",
          "data": {
            "text/plain": [
              "OrderedDict([('AAPL', 0.0),\n",
              "             ('FB', 0.0),\n",
              "             ('MSFT', 0.76147),\n",
              "             ('NVDA', 0.23853),\n",
              "             ('TSLA', 0.0)])"
            ]
          },
          "metadata": {},
          "execution_count": 30
        }
      ]
    },
    {
      "cell_type": "code",
      "source": [
        "pd.Series(pesos).plot(kind=\"pie\", figsize=(6,6))"
      ],
      "metadata": {
        "id": "ZVfuTYG6lOYb",
        "colab": {
          "base_uri": "https://localhost:8080/",
          "height": 374
        },
        "outputId": "e64afe93-2ff4-4bbf-9822-38a09f5c35f7"
      },
      "execution_count": 31,
      "outputs": [
        {
          "output_type": "execute_result",
          "data": {
            "text/plain": [
              "<matplotlib.axes._subplots.AxesSubplot at 0x7f1227b2fed0>"
            ]
          },
          "metadata": {},
          "execution_count": 31
        },
        {
          "output_type": "display_data",
          "data": {
            "image/png": "[encoded data removed]",
            "text/plain": [
              "<Figure size 432x432 with 1 Axes>"
            ]
          },
          "metadata": {}
        }
      ]
    },
    {
      "cell_type": "code",
      "source": [
        "fe.portfolio_performance(verbose=True)"
      ],
      "metadata": {
        "id": "Hhqm_eDJlOWD",
        "colab": {
          "base_uri": "https://localhost:8080/"
        },
        "outputId": "fcc1de23-4f50-40dd-9332-ceb11811a0f4"
      },
      "execution_count": 32,
      "outputs": [
        {
          "output_type": "stream",
          "name": "stdout",
          "text": [
            "Expected annual return: 38.8%\n",
            "Annual volatility: 25.0%\n",
            "Sharpe Ratio: 1.47\n"
          ]
        },
        {
          "output_type": "execute_result",
          "data": {
            "text/plain": [
              "(0.3880331843378536, 0.2500000001894728, 1.4721327362356977)"
            ]
          },
          "metadata": {},
          "execution_count": 32
        }
      ]
    },
    {
      "cell_type": "markdown",
      "source": [
        "**3.2.3. Mínimo riesgo dado un nivel de rendimiento**\n",
        "\n",
        "Determina las participaciones que minimizan el riesgo para un nivel dado de rendimiento. Es uno de los supuestos básicos de la teoría de Markowitz (Aversión al riesgo). "
      ],
      "metadata": {
        "id": "gy1pyQ4SEC2R"
      }
    },
    {
      "cell_type": "code",
      "source": [
        "fe = EfficientFrontier(rendEsp1, matrizCov2)\n",
        "fe.efficient_return(target_return=0.35)\n",
        "pesos = fe.clean_weights() \n",
        "pesos"
      ],
      "metadata": {
        "id": "oovAVCvilOSl",
        "colab": {
          "base_uri": "https://localhost:8080/"
        },
        "outputId": "2d19dc2d-107d-42b0-9b78-517c2d89626c"
      },
      "execution_count": 33,
      "outputs": [
        {
          "output_type": "execute_result",
          "data": {
            "text/plain": [
              "OrderedDict([('AAPL', 0.09106),\n",
              "             ('FB', 0.0),\n",
              "             ('MSFT', 0.76072),\n",
              "             ('NVDA', 0.14822),\n",
              "             ('TSLA', 0.0)])"
            ]
          },
          "metadata": {},
          "execution_count": 33
        }
      ]
    },
    {
      "cell_type": "code",
      "source": [
        "pd.Series(pesos).plot(kind=\"pie\", figsize=(6,6))"
      ],
      "metadata": {
        "id": "KyObRCSXlOIX",
        "colab": {
          "base_uri": "https://localhost:8080/",
          "height": 374
        },
        "outputId": "b2a317da-0e6e-43c4-aeb1-9fac52e561ea"
      },
      "execution_count": 34,
      "outputs": [
        {
          "output_type": "execute_result",
          "data": {
            "text/plain": [
              "<matplotlib.axes._subplots.AxesSubplot at 0x7f1227a21850>"
            ]
          },
          "metadata": {},
          "execution_count": 34
        },
        {
          "output_type": "display_data",
          "data": {
            "image/png": "[encoded data removed]",
            "text/plain": [
              "<Figure size 432x432 with 1 Axes>"
            ]
          },
          "metadata": {}
        }
      ]
    },
    {
      "cell_type": "code",
      "source": [
        "fe.portfolio_performance(verbose=True)"
      ],
      "metadata": {
        "id": "U5_OBcFRlN9s",
        "colab": {
          "base_uri": "https://localhost:8080/"
        },
        "outputId": "7417a8a2-d20d-4b8e-a4c4-9f3e02c453f2"
      },
      "execution_count": 35,
      "outputs": [
        {
          "output_type": "stream",
          "name": "stdout",
          "text": [
            "Expected annual return: 35.0%\n",
            "Annual volatility: 23.3%\n",
            "Sharpe Ratio: 1.42\n"
          ]
        },
        {
          "output_type": "execute_result",
          "data": {
            "text/plain": [
              "(0.3499999999999999, 0.23306271405141282, 1.4159279031102463)"
            ]
          },
          "metadata": {},
          "execution_count": 35
        }
      ]
    },
    {
      "cell_type": "markdown",
      "source": [
        "**3.2.4. Paridad de riesgo jerárquica**\n",
        "\n",
        "La paridad de riesgo jerárquica o HRP por sus siglas en inglés es un metodo de optimización inspirado en el Aprendizaje Automático (Machine Learning). La idea es que al examinar la estructura jerárquica del mercado, es posible diversificarnos mejor.\n",
        "\n",
        "A continuación se usará para encontrar la cartera de mínimo riesgo. Cabe mencionar que no es posible agregar objetivos ni restricciones a este optimizador."
      ],
      "metadata": {
        "id": "VMs2Wam6cas3"
      }
    },
    {
      "cell_type": "code",
      "source": [
        "hrp = HRPOpt(rendimientos)\n",
        "hrp.optimize()\n",
        "pesos = hrp.clean_weights()\n",
        "pesos"
      ],
      "metadata": {
        "colab": {
          "base_uri": "https://localhost:8080/"
        },
        "id": "2dqSzUlcdiwl",
        "outputId": "f0121309-e15a-4dbb-94f8-697a07e0146e"
      },
      "execution_count": 70,
      "outputs": [
        {
          "output_type": "execute_result",
          "data": {
            "text/plain": [
              "OrderedDict([('AAPL', 0.22487),\n",
              "             ('FB', 0.28328),\n",
              "             ('MSFT', 0.29833),\n",
              "             ('NVDA', 0.11328),\n",
              "             ('TSLA', 0.08024)])"
            ]
          },
          "metadata": {},
          "execution_count": 70
        }
      ]
    },
    {
      "cell_type": "code",
      "source": [
        "pd.Series(pesos).plot(kind=\"pie\", figsize=(6,6))"
      ],
      "metadata": {
        "colab": {
          "base_uri": "https://localhost:8080/",
          "height": 374
        },
        "id": "-lw7dYGIeV1_",
        "outputId": "0f81383e-d5bc-48ab-ff1a-d2d3f420052c"
      },
      "execution_count": 71,
      "outputs": [
        {
          "output_type": "execute_result",
          "data": {
            "text/plain": [
              "<matplotlib.axes._subplots.AxesSubplot at 0x7f1224f8e710>"
            ]
          },
          "metadata": {},
          "execution_count": 71
        },
        {
          "output_type": "display_data",
          "data": {
            "image/png": "[encoded data removed]",
            "text/plain": [
              "<Figure size 432x432 with 1 Axes>"
            ]
          },
          "metadata": {}
        }
      ]
    },
    {
      "cell_type": "code",
      "source": [
        "hrp.portfolio_performance(verbose=True)"
      ],
      "metadata": {
        "colab": {
          "base_uri": "https://localhost:8080/"
        },
        "id": "Flp74cufeig_",
        "outputId": "af7e8052-9b51-4ec1-a953-2808495bada3"
      },
      "execution_count": 72,
      "outputs": [
        {
          "output_type": "stream",
          "name": "stdout",
          "text": [
            "Expected annual return: 27.7%\n",
            "Annual volatility: 23.7%\n",
            "Sharpe Ratio: 1.09\n"
          ]
        },
        {
          "output_type": "execute_result",
          "data": {
            "text/plain": [
              "(0.277434935179782, 0.23698887317488498, 1.0862743542807975)"
            ]
          },
          "metadata": {},
          "execution_count": 72
        }
      ]
    },
    {
      "cell_type": "markdown",
      "source": [
        "Se grafica un dendrograma (diagrama de árbol) basado en la estructura jerárquica de los rendimientos de los activos."
      ],
      "metadata": {
        "id": "wSJkbh2uk_AD"
      }
    },
    {
      "cell_type": "code",
      "source": [
        "plotting.plot_dendrogram(hrp)"
      ],
      "metadata": {
        "colab": {
          "base_uri": "https://localhost:8080/",
          "height": 314
        },
        "id": "2JcRRfJ2eueG",
        "outputId": "432ebcaf-8012-49a8-aecb-e6e2c82caed8"
      },
      "execution_count": 73,
      "outputs": [
        {
          "output_type": "execute_result",
          "data": {
            "text/plain": [
              "<matplotlib.axes._subplots.AxesSubplot at 0x7f12257e7310>"
            ]
          },
          "metadata": {},
          "execution_count": 73
        },
        {
          "output_type": "display_data",
          "data": {
            "image/png": "[encoded data removed]",
            "text/plain": [
              "<Figure size 432x288 with 1 Axes>"
            ]
          },
          "metadata": {
            "needs_background": "light"
          }
        }
      ]
    },
    {
      "cell_type": "markdown",
      "source": [
        "### **3.3. Agregar objetivos y restricciones**"
      ],
      "metadata": {
        "id": "TDaliNXF_7Iw"
      }
    },
    {
      "cell_type": "markdown",
      "source": [
        "**3.3.1. Regularización L2.** \n",
        "\n",
        "Este es un concepto del Aprendizaje Automático , sin embargo, acá se usa para incrementar el número de pesos o participaciones distintas de cero y tener una cartera más diversificada.\n",
        "\n",
        "Usemos como ejemplo la maximización del rendimiento dado una volatilidad del 25%. (participaciones obtenidas: 75% microfost, 25% nvidia)\n",
        "\n",
        "Si bien parece que esta cartera cumple con nuestros objetivos, a la mayoría de los tickers se les ha asignado peso cero. En efecto, el optimizador se está \"sobreajustando\" a los datos que ha proporcionado: es más probable que obtenga mejores resultados al aplicar cierto nivel de diversificación. Una forma de lograr esta diversificación es mediante la regularización L2, esencialmente, agregando una penalización a la función objetivo cuando hay ponderaciones (pesos) cercanas a cero."
      ],
      "metadata": {
        "id": "R6w5GZiEbjkr"
      }
    },
    {
      "cell_type": "code",
      "source": [
        "fe = EfficientFrontier(rendEsp1, matrizCov2)\n",
        "fe.add_objective(objective_functions.L2_reg, gamma=0.1)  # gamma es un parámetro de ajuste, se incrementa en la medida que querramos más pesos distintos de cero (mayor diversificación).\n",
        "fe.efficient_risk(target_volatility= 0.25)\n",
        "pesos = fe.clean_weights() \n",
        "pesos"
      ],
      "metadata": {
        "colab": {
          "base_uri": "https://localhost:8080/"
        },
        "id": "9naQfLGTZKqK",
        "outputId": "6eceed94-eaff-439e-ec0d-57c25190cad4"
      },
      "execution_count": 36,
      "outputs": [
        {
          "output_type": "execute_result",
          "data": {
            "text/plain": [
              "OrderedDict([('AAPL', 0.18031),\n",
              "             ('FB', 0.0),\n",
              "             ('MSFT', 0.55296),\n",
              "             ('NVDA', 0.26673),\n",
              "             ('TSLA', 0.0)])"
            ]
          },
          "metadata": {},
          "execution_count": 36
        }
      ]
    },
    {
      "cell_type": "code",
      "source": [
        "pd.Series(pesos).plot(kind=\"pie\", figsize=(6,6))"
      ],
      "metadata": {
        "colab": {
          "base_uri": "https://localhost:8080/",
          "height": 374
        },
        "id": "brDSc9zimWYv",
        "outputId": "4d8c00bd-210f-4824-9aa5-22926d28288b"
      },
      "execution_count": 37,
      "outputs": [
        {
          "output_type": "execute_result",
          "data": {
            "text/plain": [
              "<matplotlib.axes._subplots.AxesSubplot at 0x7f122798d590>"
            ]
          },
          "metadata": {},
          "execution_count": 37
        },
        {
          "output_type": "display_data",
          "data": {
            "image/png": "[encoded data removed]",
            "text/plain": [
              "<Figure size 432x432 with 1 Axes>"
            ]
          },
          "metadata": {}
        }
      ]
    },
    {
      "cell_type": "code",
      "source": [
        "fe.portfolio_performance(verbose=True)"
      ],
      "metadata": {
        "colab": {
          "base_uri": "https://localhost:8080/"
        },
        "id": "9KZxuwKeel53",
        "outputId": "07b1dcf7-4c80-4b55-cfbe-6031fcf2c30a"
      },
      "execution_count": 38,
      "outputs": [
        {
          "output_type": "stream",
          "name": "stdout",
          "text": [
            "Expected annual return: 38.0%\n",
            "Annual volatility: 25.0%\n",
            "Sharpe Ratio: 1.44\n"
          ]
        },
        {
          "output_type": "execute_result",
          "data": {
            "text/plain": [
              "(0.3800538272036079, 0.2500000000843682, 1.4402153083283982)"
            ]
          },
          "metadata": {},
          "execution_count": 38
        }
      ]
    },
    {
      "cell_type": "markdown",
      "source": [
        "**3.3.2. Posiciones Largas / Posiciones Cortas** \n",
        "\n",
        "De forma predeterminada, todos los métodos de optimización de riesgo - rendimiento en `PyPortfolioOpt` toman posiciones largas, sin embargo se pueden configurar para permitir posiciones cortas cambiando el parámetro `weight_bounds`. Este parámetro representa el mínimo y máximo peso que puede tomar cada acción en la cartera.\n",
        "\n",
        "\n",
        "*   Posición larga : (0,1) por defecto.\n",
        "*   Posición corta : (-1,1).\n",
        "\n",
        "Usando el ejemplo anterior:\n"
      ],
      "metadata": {
        "id": "qBf5RebBp-AY"
      }
    },
    {
      "cell_type": "code",
      "source": [
        "fe = EfficientFrontier(rendEsp1, matrizCov2, weight_bounds=(-1,1))\n",
        "fe.add_objective(objective_functions.L2_reg, gamma=0.1)  \n",
        "fe.efficient_risk(target_volatility= 0.25)\n",
        "pesos = fe.clean_weights() \n",
        "pesos"
      ],
      "metadata": {
        "id": "iPZHLCwYpyXz",
        "colab": {
          "base_uri": "https://localhost:8080/"
        },
        "outputId": "667a7735-3a5e-4158-afe1-6da39a559241"
      },
      "execution_count": 39,
      "outputs": [
        {
          "output_type": "execute_result",
          "data": {
            "text/plain": [
              "OrderedDict([('AAPL', 0.21612),\n",
              "             ('FB', -0.01448),\n",
              "             ('MSFT', 0.57642),\n",
              "             ('NVDA', 0.28164),\n",
              "             ('TSLA', -0.0597)])"
            ]
          },
          "metadata": {},
          "execution_count": 39
        }
      ]
    },
    {
      "cell_type": "code",
      "source": [
        "pd.Series(pesos).plot(kind=\"barh\")"
      ],
      "metadata": {
        "colab": {
          "base_uri": "https://localhost:8080/",
          "height": 282
        },
        "id": "QY7bgKa1nE6n",
        "outputId": "caf7b8d7-a917-427e-ea0b-076809740ccf"
      },
      "execution_count": 40,
      "outputs": [
        {
          "output_type": "execute_result",
          "data": {
            "text/plain": [
              "<matplotlib.axes._subplots.AxesSubplot at 0x7f1225777c90>"
            ]
          },
          "metadata": {},
          "execution_count": 40
        },
        {
          "output_type": "display_data",
          "data": {
            "image/png": "[encoded data removed]",
            "text/plain": [
              "<Figure size 432x288 with 1 Axes>"
            ]
          },
          "metadata": {
            "needs_background": "light"
          }
        }
      ]
    },
    {
      "cell_type": "markdown",
      "source": [
        "**3.3.3. Neutralidad de mercado** \n",
        "\n",
        "Para los objetivos `efficient_risk()` y `efficient_return()`, `PyPortfolioOpt` ofrece una opción para formar una cartera de mercado neutral (es decir, los pesos suman cero). Esto no es posible para la cartera de máximo ratio de Sharpe (cartera de tangencia) y la cartera de mínimo riesgo, porque en esos casos no son invariantes con respecto al apalancamiento. La neutralidad del mercado requiere ponderaciones negativas, es decir, posiciones cortas."
      ],
      "metadata": {
        "id": "luxIvHhtw_wq"
      }
    },
    {
      "cell_type": "code",
      "source": [
        "fe = EfficientFrontier(rendEsp1, matrizCov2, weight_bounds=(-1,1))\n",
        "fe.add_objective(objective_functions.L2_reg, gamma=0.1)  \n",
        "fe.efficient_risk(target_volatility= 0.25, market_neutral = True) #por defecto el parámetro es False \n",
        "pesos = fe.clean_weights() \n",
        "pesos"
      ],
      "metadata": {
        "id": "LYnYyImKxXki",
        "colab": {
          "base_uri": "https://localhost:8080/"
        },
        "outputId": "27383a63-f315-4f63-dc08-c7bd9ce73923"
      },
      "execution_count": 41,
      "outputs": [
        {
          "output_type": "execute_result",
          "data": {
            "text/plain": [
              "OrderedDict([('AAPL', -0.19625),\n",
              "             ('FB', -0.45685),\n",
              "             ('MSFT', 0.12458),\n",
              "             ('NVDA', 0.65183),\n",
              "             ('TSLA', -0.12332)])"
            ]
          },
          "metadata": {},
          "execution_count": 41
        }
      ]
    },
    {
      "cell_type": "code",
      "source": [
        "pd.Series(pesos).plot(kind=\"barh\")"
      ],
      "metadata": {
        "colab": {
          "base_uri": "https://localhost:8080/",
          "height": 282
        },
        "id": "_gNILvBLpL7e",
        "outputId": "c7cc1c26-a761-4f28-eff1-075c4a945a84"
      },
      "execution_count": 42,
      "outputs": [
        {
          "output_type": "execute_result",
          "data": {
            "text/plain": [
              "<matplotlib.axes._subplots.AxesSubplot at 0x7f122566c1d0>"
            ]
          },
          "metadata": {},
          "execution_count": 42
        },
        {
          "output_type": "display_data",
          "data": {
            "image/png": "[encoded data removed]",
            "text/plain": [
              "<Figure size 432x288 with 1 Axes>"
            ]
          },
          "metadata": {
            "needs_background": "light"
          }
        }
      ]
    },
    {
      "cell_type": "code",
      "source": [
        "plotting.plot_weights(pesos)"
      ],
      "metadata": {
        "colab": {
          "base_uri": "https://localhost:8080/",
          "height": 314
        },
        "id": "GP9MlUVM4UHV",
        "outputId": "d415ddb7-e8a2-4548-f4e2-d1e66b8f6cac"
      },
      "execution_count": 43,
      "outputs": [
        {
          "output_type": "execute_result",
          "data": {
            "text/plain": [
              "<matplotlib.axes._subplots.AxesSubplot at 0x7f1225762310>"
            ]
          },
          "metadata": {},
          "execution_count": 43
        },
        {
          "output_type": "display_data",
          "data": {
            "image/png": "[encoded data removed]",
            "text/plain": [
              "<Figure size 432x288 with 1 Axes>"
            ]
          },
          "metadata": {
            "needs_background": "light"
          }
        }
      ]
    },
    {
      "cell_type": "markdown",
      "source": [
        "**3.3.4. Participaciones en la cartera** \n"
      ],
      "metadata": {
        "id": "jw_6GiwZ5uCc"
      }
    },
    {
      "cell_type": "markdown",
      "source": [
        "En el caso de la máxima participación en la cartera, se busca que cada activo no supere cierta participación dentro de la cartera, para lo cual se modifica el parámetro `weight_bounds`. Por ejemplo, no se podría invertir más del 40% en cada acción:"
      ],
      "metadata": {
        "id": "To5HHs7sq5IO"
      }
    },
    {
      "cell_type": "code",
      "source": [
        "fe = EfficientFrontier(rendEsp1, matrizCov2, weight_bounds=(0, 0.4))\n",
        "fe.max_sharpe()"
      ],
      "metadata": {
        "id": "imyYz54pxYU6",
        "colab": {
          "base_uri": "https://localhost:8080/"
        },
        "outputId": "e438eb17-8d40-4c71-8d27-1c19f5b4a014"
      },
      "execution_count": 44,
      "outputs": [
        {
          "output_type": "execute_result",
          "data": {
            "text/plain": [
              "OrderedDict([('AAPL', 0.2),\n",
              "             ('FB', 0.0),\n",
              "             ('MSFT', 0.4),\n",
              "             ('NVDA', 0.4),\n",
              "             ('TSLA', 0.0)])"
            ]
          },
          "metadata": {},
          "execution_count": 44
        }
      ]
    },
    {
      "cell_type": "markdown",
      "source": [
        "También es posible fijar las participaciones que tendrán ciertas acciones en la cartera usando el método `add_constraint()` y funciones lamda personalizadas. Por ejemplo, que la participación de NVDA en la cartera sea del 20%, la de TSLA sea mayor o igual al 5% y que MSFT no supere el 40%:"
      ],
      "metadata": {
        "id": "moE8TRsUtwfm"
      }
    },
    {
      "cell_type": "code",
      "source": [
        "fe = EfficientFrontier(rendEsp1, matrizCov2)\n",
        "\n",
        "NVDA_pos = fe.tickers.index('NVDA')\n",
        "fe.add_constraint(lambda w: w[NVDA_pos] == 0.20)\n",
        "\n",
        "TSLA_pos = fe.tickers.index('TSLA')\n",
        "fe.add_constraint(lambda w: w[TSLA_pos] >= 0.05)\n",
        "\n",
        "fe.add_constraint(lambda w: w[2] <= 0.4) #pasamos directamente la posición, MSFT tiene la posición 2 en el diccionario.\n",
        "\n",
        "fe.max_sharpe()\n"
      ],
      "metadata": {
        "colab": {
          "base_uri": "https://localhost:8080/"
        },
        "id": "Sd2DwaCCv4Dk",
        "outputId": "e9b74360-dbba-4bfb-e9cf-ef5283fbd075"
      },
      "execution_count": 45,
      "outputs": [
        {
          "output_type": "execute_result",
          "data": {
            "text/plain": [
              "OrderedDict([('AAPL', 0.3499999999999998),\n",
              "             ('FB', 0.0),\n",
              "             ('MSFT', 0.4),\n",
              "             ('NVDA', 0.2),\n",
              "             ('TSLA', 0.05)])"
            ]
          },
          "metadata": {},
          "execution_count": 45
        }
      ]
    },
    {
      "cell_type": "markdown",
      "source": [
        "## PASO 4: **Graficar carteras**"
      ],
      "metadata": {
        "id": "idmqaeci2tkA"
      }
    },
    {
      "cell_type": "markdown",
      "source": [
        "Se graficará la frontera eficiente usando el módulo `plotting` y simulación montecarlo para generar carteras de manera aleatoria. \n",
        "\n",
        "En el siguiente ejemplo se graficará la frontera eficiente simulando 100.000 carteras:"
      ],
      "metadata": {
        "id": "llfPlTCF63_O"
      }
    },
    {
      "cell_type": "code",
      "source": [
        "fe = EfficientFrontier(rendEsp1, matrizCov2)\n",
        "\n",
        "fig, ax = plt.subplots()\n",
        "# Grafica la frotnera eficiente\n",
        "plotting.plot_efficient_frontier(fe, show_assets=False)\n",
        "\n",
        "# Genera y grafica las carteras aleatorias\n",
        "n_carteras = 10000\n",
        "w = np.random.dirichlet(np.ones(len(precios.columns)), n_carteras)\n",
        "rendimiento = w.dot(rendEsp1)\n",
        "riesgo = np.sqrt(np.diag(w @ matrizCov2 @ w.T))\n",
        "sharpes = rendimiento / riesgo\n",
        "ax.scatter(riesgo, rendimiento, marker=\".\", c=sharpes, cmap=\"viridis_r\")\n",
        "\n",
        "# Encuentra y grafica la cartera de tangencia\n",
        "fe = EfficientFrontier(rendEsp1, matrizCov2)\n",
        "fe.max_sharpe()\n",
        "rend_tangente, riesgo_tangente, _ = fe.portfolio_performance()\n",
        "ax.scatter(riesgo_tangente, rend_tangente, marker=\"o\", s=200, c=\"r\", label=\"Cartera de tangencia\")\n",
        "\n",
        "ax.set_title(\"Frontera eficiente con cartera de tangencia\")\n",
        "ax.legend()\n",
        "plt.ylabel(\"Rendimiento\")\n",
        "plt.xlabel(\"Riesgo\")\n",
        "plt.show()\n"
      ],
      "metadata": {
        "colab": {
          "base_uri": "https://localhost:8080/",
          "height": 312
        },
        "id": "mHa5j7Gw7jyt",
        "outputId": "b18983c0-05d3-483e-8cba-3c02bf4baae9"
      },
      "execution_count": 75,
      "outputs": [
        {
          "output_type": "display_data",
          "data": {
            "image/png": "[encoded data removed]",
            "text/plain": [
              "<Figure size 432x288 with 1 Axes>"
            ]
          },
          "metadata": {
            "needs_background": "light"
          }
        }
      ]
    }
  ]
}